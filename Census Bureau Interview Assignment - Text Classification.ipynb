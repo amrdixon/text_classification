{
 "cells": [
  {
   "cell_type": "markdown",
   "metadata": {},
   "source": [
    "## Introduction\n",
    "\n",
    "In 2018, the e-commerce site Rakuten ran a public data challenge that asked data scientists to develop a model to classify products given a text description of that product. This notebook shows an early attempt to address this challenge. Included in this work is data analysis, discussion of performance metrics, implementation of a simple text classifier and some classifier parameter tuning. This work is an early version of how an overall project might look, so we included several recommendations for future work.\n",
    "\n",
    "While this work is derived from many sources, many of the methods and approaches were inspired by the scikit learn tutorial on working with text data: https://scikit-learn.org/stable/tutorial/text_analytics/working_with_text_data.html"
   ]
  },
  {
   "cell_type": "code",
   "execution_count": 1,
   "metadata": {},
   "outputs": [],
   "source": [
    "import pandas as pd\n",
    "import numpy as np\n",
    "import matplotlib.pyplot as plt\n",
    "from sklearn.feature_extraction.text import CountVectorizer\n",
    "from sklearn.naive_bayes import MultinomialNB\n",
    "import seaborn as sns\n",
    "from sklearn.preprocessing import normalize\n",
    "from sklearn.pipeline import Pipeline\n",
    "from sklearn.model_selection import GridSearchCV\n",
    "from sklearn.model_selection import cross_val_score"
   ]
  },
  {
   "cell_type": "markdown",
   "metadata": {},
   "source": [
    "## Data Analysis"
   ]
  },
  {
   "cell_type": "markdown",
   "metadata": {},
   "source": [
    "### Training Data\n",
    "\n",
    "The training data, data used to train the machine leaning model, consists of 800,000 records. Each record has only two fields: a description of the product and the product's category. The fields are both strings. The following subsections take a closer look at the labels (product category) and features (product description). Minor cleaning checked that there were no invalid (np.nan or None) values in either the description or category fields."
   ]
  },
  {
   "cell_type": "code",
   "execution_count": 2,
   "metadata": {},
   "outputs": [
    {
     "name": "stdout",
     "output_type": "stream",
     "text": [
      "Number of rows:  800000\n",
      "Number of columns:  2\n"
     ]
    },
    {
     "data": {
      "text/html": [
       "<div>\n",
       "<style scoped>\n",
       "    .dataframe tbody tr th:only-of-type {\n",
       "        vertical-align: middle;\n",
       "    }\n",
       "\n",
       "    .dataframe tbody tr th {\n",
       "        vertical-align: top;\n",
       "    }\n",
       "\n",
       "    .dataframe thead th {\n",
       "        text-align: right;\n",
       "    }\n",
       "</style>\n",
       "<table border=\"1\" class=\"dataframe\">\n",
       "  <thead>\n",
       "    <tr style=\"text-align: right;\">\n",
       "      <th></th>\n",
       "      <th>description</th>\n",
       "      <th>cat_full</th>\n",
       "    </tr>\n",
       "  </thead>\n",
       "  <tbody>\n",
       "    <tr>\n",
       "      <th>0</th>\n",
       "      <td>Replacement Viewsonic VG710 LCD Monitor 48Watt...</td>\n",
       "      <td>3292&gt;114&gt;1231</td>\n",
       "    </tr>\n",
       "    <tr>\n",
       "      <th>1</th>\n",
       "      <td>HP COMPAQ Pavilion DV6-1410EZ 4400mAh 48Wh 6 C...</td>\n",
       "      <td>3292&gt;1370&gt;4767&gt;3975&gt;1420</td>\n",
       "    </tr>\n",
       "    <tr>\n",
       "      <th>2</th>\n",
       "      <td>Bonjour</td>\n",
       "      <td>2296&gt;3597&gt;2989</td>\n",
       "    </tr>\n",
       "    <tr>\n",
       "      <th>3</th>\n",
       "      <td>Two Pack 6V 12Ah  Eaton POWERRITE PRO II 2400 ...</td>\n",
       "      <td>3292&gt;114&gt;1231</td>\n",
       "    </tr>\n",
       "    <tr>\n",
       "      <th>4</th>\n",
       "      <td>Generations Small Side Table White</td>\n",
       "      <td>4015&gt;3636&gt;1319&gt;1409&gt;3606</td>\n",
       "    </tr>\n",
       "  </tbody>\n",
       "</table>\n",
       "</div>"
      ],
      "text/plain": [
       "                                         description                  cat_full\n",
       "0  Replacement Viewsonic VG710 LCD Monitor 48Watt...             3292>114>1231\n",
       "1  HP COMPAQ Pavilion DV6-1410EZ 4400mAh 48Wh 6 C...  3292>1370>4767>3975>1420\n",
       "2                                            Bonjour            2296>3597>2989\n",
       "3  Two Pack 6V 12Ah  Eaton POWERRITE PRO II 2400 ...             3292>114>1231\n",
       "4                 Generations Small Side Table White  4015>3636>1319>1409>3606"
      ]
     },
     "execution_count": 2,
     "metadata": {},
     "output_type": "execute_result"
    }
   ],
   "source": [
    "#load data\n",
    "train_data = pd.read_csv('https://github.com/up-lab/rakuten-data-challenge/raw/master/rdc-catalog-train.tsv', header=None, names=['description', 'cat_full'], sep='\\t', )\n",
    "\n",
    "#print some basic information about data\n",
    "print('Number of rows: ', train_data.shape[0])\n",
    "print('Number of columns: ', train_data.shape[1])\n",
    "\n",
    "#look at the data\n",
    "train_data.head()"
   ]
  },
  {
   "cell_type": "code",
   "execution_count": 3,
   "metadata": {},
   "outputs": [],
   "source": [
    "train_data['cat_1'] = train_data['cat_full'].apply(lambda x: x.split('>')[0])\n",
    "train_data['cat_2'] = train_data['cat_full'].apply(lambda x: x.split('>')[1] if (len(x.split('>'))>1) else np.nan)"
   ]
  },
  {
   "cell_type": "code",
   "execution_count": 4,
   "metadata": {},
   "outputs": [
    {
     "name": "stdout",
     "output_type": "stream",
     "text": [
      "Number of rows before cleaning:  800000\n",
      "Number of rows after cleaning:  800000\n"
     ]
    }
   ],
   "source": [
    "#basic cleaning, remove any rows that don't have values in the decsription or cat_1 fields (leaving those with\n",
    "#missing cat_2 for now)\n",
    "print('Number of rows before cleaning: ', train_data.shape[0])\n",
    "train_data.dropna(subset=['description','cat_1'], inplace=True)\n",
    "print('Number of rows after cleaning: ', train_data.shape[0])"
   ]
  },
  {
   "cell_type": "markdown",
   "metadata": {},
   "source": [
    "#### Labels\n",
    "\n",
    "The category field is ultimately the labels. The categories are hierarchical with each level separated by a \">\" character. Not all labels consist of the same number of levels. Number of category levels range from 1 to 8 with a mean of 4. To simplify this work, we will focus on classification of the first two levels only and leave further classification to future work. There are 14 unique first level categories and 109 unique second level categories. Further there are 109 unique first+second level categories, meaning there are no shared second level categories with first level categories (e.g. if A>1 and B>2 are categories, \"1\" always mapped back to \"A\" and 2 always mapped back to \"B\").\n",
    "\n",
    "Finally, we take a look at how balanced the data is for the first level category. It is not a very balanced dataset, with 2/14 of the first level categories composing more than 50% of the dataset. This may have implications on certain classifier performance, perhaps showing overwhelming preference to classifying those more prevalent categories."
   ]
  },
  {
   "cell_type": "code",
   "execution_count": 5,
   "metadata": {},
   "outputs": [
    {
     "name": "stdout",
     "output_type": "stream",
     "text": [
      "Minimum number of categories:  1\n",
      "Maximum number of categories:  8\n",
      "Mean number of categories:  4.0131475\n"
     ]
    },
    {
     "data": {
      "image/png": "[encoded data removed]",
      "text/plain": [
       "<Figure size 432x288 with 1 Axes>"
      ]
     },
     "metadata": {
      "needs_background": "light"
     },
     "output_type": "display_data"
    }
   ],
   "source": [
    "#looking at the distribution for teh category mappings\n",
    "num_categories = train_data['cat_full'].apply(lambda x: len(x.split('>')))\n",
    "print('Minimum number of categories: ', min(num_categories))\n",
    "print('Maximum number of categories: ', max(num_categories))\n",
    "print('Mean number of categories: ', np.mean(num_categories))\n",
    "\n",
    "\n",
    "plt.hist(num_categories, align='left', bins=[x for x in range(max(num_categories))])\n",
    "plt.xlabel('Number of category levels')\n",
    "plt.ylabel('Frequency')\n",
    "plt.show()"
   ]
  },
  {
   "cell_type": "code",
   "execution_count": 6,
   "metadata": {},
   "outputs": [
    {
     "name": "stdout",
     "output_type": "stream",
     "text": [
      "Number of first level distinct categories:  14\n",
      "Number of second level distinct categories:  109\n",
      "Number of first+second level distinct categories:  109\n"
     ]
    }
   ],
   "source": [
    "#look at numer of categories\n",
    "print('Number of first level distinct categories: ', len(train_data['cat_1'].unique()))\n",
    "print('Number of second level distinct categories: ', len(train_data['cat_2'].unique()))\n",
    "#double checking there are no second level category mappings that are shared between first levels\n",
    "#(e.g. 1>a and 2>a)\n",
    "print('Number of first+second level distinct categories: ', len(train_data.groupby(['cat_1', 'cat_2'])))"
   ]
  },
  {
   "cell_type": "code",
   "execution_count": 7,
   "metadata": {},
   "outputs": [
    {
     "data": {
      "text/plain": [
       "cat_1\n",
       "1208    0.001288\n",
       "1395    0.023559\n",
       "1608    0.106942\n",
       "2075    0.025108\n",
       "2199    0.120892\n",
       "2296    0.035515\n",
       "3093    0.006372\n",
       "3292    0.251181\n",
       "3625    0.036946\n",
       "3730    0.010141\n",
       "4015    0.335369\n",
       "4238    0.029411\n",
       "4564    0.007060\n",
       "92      0.010215\n",
       "dtype: float64"
      ]
     },
     "execution_count": 7,
     "metadata": {},
     "output_type": "execute_result"
    }
   ],
   "source": [
    "#Looking at how balanaced the training set is\n",
    "train_data.groupby('cat_1').apply(len)/len(train_data['cat_1'])"
   ]
  },
  {
   "cell_type": "markdown",
   "metadata": {},
   "source": [
    "#### Features\n",
    "\n",
    "The description field will provide the basis for the feature(s) in our machine learning model. Each description is a short collection of \"words\" any about the product. Words here are actually tokens, defined by the scikit learn toolkit tokenizer, which is basically smaller groups of characters identifiable meaning (usually words). The entry descriptions' length range from 0 to 52 words with a mean of 10.6 and a standard deviation of 4.7. This led to the decision to use a bag of words model, a model whereby words and their frequency are the system's features. There are often few enough words in the descriptions, that the machine learning model will likely be classifying categories from previously encountered words.\n",
    "\n",
    "\n",
    "The scikit learn tokenizer is used convert the description text into tokens. We first apply this to a small sample set to gain a better understanding of how the tokenizer constructs the features. We see that the tokenizer works by breaking up all the tokens in all n training data points into m tokens. Then, it constructs an nxm matrix which is the count of every possible token in each training data point. You can normalize beyond simple word counts to account for super common words among and within different entries using TF-IDF (term frequency times inverse document frequency). Each of the n training points is so short however, that it's unclear how helpful this normalization would be and is thus left to future work.\n",
    "\n",
    "After gaining some understanding of how the tokenizer functions, we broadened the analysis to look at the entire tokenized training set. Without any further data processing, the training set contains 427,297 total tokens. Looking at the token frequency across the training set, we see that tokens had a mean count of ~20 tokens with a standard deviation of ~510 tokens, meaning some high frequency words are much higher frequency than others and skewing that standard deviation pretty high. There are a couple potential data processing measures we could take here such as:\n",
    "\n",
    "- Removing stop words: By removing common words in the English language, such as \"the\", we may be able to reduce and enrich the feature space.\n",
    "- Using n-grams: Small groups of tokens, rather than single tokens, may contain more context. For example, we show that \"black\" is a high frequency word. But using pairs of words like \"black beans\" and \"black notebook\" we may give the features more context.\n",
    "- Stemming/Lemmatizing: Grouping words together with similar meanings would help reduce the size of and enrich the feature space. An example of stemming/lemmatizing would be mapping \"battery\" and \"batteries\" to the same token.\n",
    "- Translation: A peek at the tokens below reveals that there are some entries with non-English words. Performing a translation operation to English such that all entries are the same language would help build a better training set.\n",
    "\n",
    "The analysis below explores removing stop words and using n-grams. While we believe stemming/lemmatizing and translation would be good data processing steps, we are leaving this to future work.\n",
    "\n",
    "Finally, we did detect 11 test data entries where the tokenizer identified 0 tokens. 10/11 of those entries map to the same category so you could consider a \"no data is data\" approach, but I hypothesize it will more likely lead to overfitting and would best be removed.\n"
   ]
  },
  {
   "cell_type": "code",
   "execution_count": 8,
   "metadata": {},
   "outputs": [
    {
     "name": "stdout",
     "output_type": "stream",
     "text": [
      "Description Length Statistics: \n",
      "Min:  0\n",
      "Max:  52\n",
      "Mean:  10.60846875\n",
      "Std. Dev.:  4.682643167087735\n"
     ]
    }
   ],
   "source": [
    "#Stats of number of \"words\" in each description field\n",
    "word_counter = CountVectorizer()\n",
    "word_counter.fit(train_data['description'])\n",
    "train_x = word_counter.transform(train_data['description'])\n",
    "\n",
    "num_words_per_record = train_x.sum(axis=1)\n",
    "print('Description Length Statistics: ')\n",
    "print('Min: ', np.min(num_words_per_record))\n",
    "print('Max: ', np.max(num_words_per_record))\n",
    "print('Mean: ', np.mean(num_words_per_record))\n",
    "print('Std. Dev.: ', np.std(num_words_per_record))"
   ]
  },
  {
   "cell_type": "code",
   "execution_count": 9,
   "metadata": {},
   "outputs": [
    {
     "name": "stdout",
     "output_type": "stream",
     "text": [
      "Sample String: \n",
      "0    Replacement Viewsonic VG710 LCD Monitor 48Watt...\n",
      "1    HP COMPAQ Pavilion DV6-1410EZ 4400mAh 48Wh 6 C...\n",
      "Name: description, dtype: object\n",
      "\n",
      "Features: \n",
      "['10', '12v', '1410ez', '4400mah', '48watt', '48wh', '4a', '8v', 'ac', 'adapter', 'battery', 'black', 'cell', 'compaq', 'compatible', 'dv6', 'hp', 'ion', 'lcd', 'li', 'monitor', 'pavilion', 'replacement', 'vg710', 'viewsonic']\n",
      "\n",
      "Number of Occurences: \n",
      "0    [0, 1, 0, 0, 1, 0, 1, 0, 1, 1, 0, 0, 0, 0, 0, ...\n",
      "1    [1, 0, 1, 1, 0, 1, 0, 1, 0, 0, 1, 1, 1, 1, 1, ...\n",
      "Name: description, dtype: object\n"
     ]
    }
   ],
   "source": [
    "#looking at the feature (bag of words of description field) for TWO descriptions\n",
    "vectorizer = CountVectorizer()\n",
    "print('Sample String: ')\n",
    "sample_data = train_data.iloc[0:2]['description']\n",
    "print(sample_data)\n",
    "\n",
    "#create a dictionary from the whole trainign set\n",
    "vectorizer.fit_transform(sample_data)\n",
    "vocab_full =  vectorizer.get_feature_names()\n",
    "vectorizer = CountVectorizer(vocabulary=vocab_full)\n",
    "bow_counts = sample_data.apply(lambda x: vectorizer.fit_transform([x]))\n",
    "\n",
    "print('')\n",
    "print('Features: ')\n",
    "print(vectorizer.get_feature_names())\n",
    "\n",
    "print('')\n",
    "print('Number of Occurences: ')\n",
    "print(bow_counts.apply(lambda x: x.toarray()[0]))"
   ]
  },
  {
   "cell_type": "code",
   "execution_count": 10,
   "metadata": {},
   "outputs": [
    {
     "name": "stdout",
     "output_type": "stream",
     "text": [
      "Number of features:  427297\n",
      " \n",
      "Highest frequency words: \n",
      "[('for', 165031), ('replacement', 91313), ('pack', 74865), ('black', 64110), ('battery', 55975), ('cover', 55047), ('in', 53520), ('skin', 50501), ('and', 46959), ('decal', 43758)]\n",
      " \n",
      "Lowest frequency words: \n",
      "[('µdimm', 1), ('â³', 1), ('çelebration', 1), ('égales', 1), ('élan', 1), ('épais', 1), ('étagère', 1), ('üsküdar', 1), ('œme', 1), ('ﾠb', 1)]\n",
      " \n",
      "Basic Statistics of Word Frequencies: \n",
      "Mean:  19.861536589304396\n",
      "Standard Deviation:  509.9616573544085\n",
      "Min:  1 , Number of occurences:  290634\n",
      "Max:  165031\n"
     ]
    }
   ],
   "source": [
    "#Broadening analysis to whole training set\n",
    "\n",
    "def quick_feature_analysis(feature=train_data['description'], tok_kwargs={}):\n",
    "    vectorizer = CountVectorizer(**tok_kwargs)\n",
    "    vectorizer.fit(feature)\n",
    "    train_x = vectorizer.transform(feature)\n",
    "    print('Number of features: ', train_x.shape[1])\n",
    "\n",
    "    #What are some high frequency words?\n",
    "    top_i = 10\n",
    "\n",
    "    total_occurences = zip(vectorizer.get_feature_names(), train_x.sum(axis=0).tolist()[0])\n",
    "    total_occurences_sorted = sorted(total_occurences, key=lambda x: -x[1])\n",
    "    print(' ')\n",
    "    print('Highest frequency words: ')\n",
    "    print(total_occurences_sorted[0:top_i])\n",
    "\n",
    "    print(' ')\n",
    "    print('Lowest frequency words: ')\n",
    "    print(total_occurences_sorted[-top_i:])\n",
    "\n",
    "    print(' ')\n",
    "    print('Basic Statistics of Word Frequencies: ')\n",
    "    word_freq = train_x.sum(axis=0).tolist()[0]\n",
    "    print('Mean: ', np.mean(word_freq))\n",
    "    print('Standard Deviation: ', np.std(word_freq))\n",
    "    print('Min: ', np.min(word_freq), ', Number of occurences: ', len(np.argwhere(word_freq==np.min(word_freq))))\n",
    "    print('Max: ', np.max(word_freq))\n",
    "    \n",
    "quick_feature_analysis()\n"
   ]
  },
  {
   "cell_type": "code",
   "execution_count": 11,
   "metadata": {},
   "outputs": [
    {
     "name": "stdout",
     "output_type": "stream",
     "text": [
      "Number of features:  427019\n",
      " \n",
      "Highest frequency words: \n",
      "[('replacement', 91313), ('pack', 74865), ('black', 64110), ('battery', 55975), ('cover', 55047), ('skin', 50501), ('decal', 43758), ('protective', 43434), ('filter', 40792), ('vinyl', 39550)]\n",
      " \n",
      "Lowest frequency words: \n",
      "[('µdimm', 1), ('â³', 1), ('çelebration', 1), ('égales', 1), ('élan', 1), ('épais', 1), ('étagère', 1), ('üsküdar', 1), ('œme', 1), ('ﾠb', 1)]\n",
      " \n",
      "Basic Statistics of Word Frequencies: \n",
      "Mean:  18.557822954013755\n",
      "Standard Deviation:  417.8405487963014\n",
      "Min:  1 , Number of occurences:  290622\n",
      "Max:  91313\n"
     ]
    }
   ],
   "source": [
    "#What if we removed stop words?\n",
    "quick_feature_analysis(tok_kwargs={'stop_words':'english'})"
   ]
  },
  {
   "cell_type": "code",
   "execution_count": 12,
   "metadata": {
    "scrolled": true
   },
   "outputs": [
    {
     "name": "stdout",
     "output_type": "stream",
     "text": [
      "Number of features:  2480461\n",
      " \n",
      "Highest frequency words: \n",
      "[('for', 165031), ('replacement', 91313), ('pack', 74865), ('black', 64110), ('battery', 55975), ('cover', 55047), ('in', 53520), ('skin', 50501), ('and', 46959), ('decal', 43758)]\n",
      " \n",
      "Lowest frequency words: \n",
      "[('œme salon', 1), ('šâ žâ', 1), ('šã premium', 1), ('šã pãƒæ', 1), ('šã re', 1), ('šã â³', 1), ('šã â¾ãƒæ', 1), ('žâ ãƒæ', 1), ('ﾠb', 1), ('ﾠb battery', 1)]\n",
      " \n",
      "Basic Statistics of Word Frequencies: \n",
      "Mean:  6.520385121959184\n",
      "Standard Deviation:  227.16310240064493\n",
      "Min:  1 , Number of occurences:  1792252\n",
      "Max:  165031\n"
     ]
    }
   ],
   "source": [
    "#What if we used n-grams?\n",
    "quick_feature_analysis(tok_kwargs={'ngram_range': (1,2)})"
   ]
  },
  {
   "cell_type": "code",
   "execution_count": 13,
   "metadata": {},
   "outputs": [
    {
     "name": "stdout",
     "output_type": "stream",
     "text": [
      "Number of entries with no decscription:  11\n",
      " \n",
      "Entries with empty features: \n",
      "       description         cat_full cat_1 cat_2\n",
      "58845        3 & 4    2296>3597>689  2296  3597\n",
      "161182     1-2-3-4    2296>3597>689  2296  3597\n",
      "240920           R   2296>3706>2852  2296  3706\n",
      "249402         3.0   2296>3597>2002  2296  3597\n",
      "485492         S'u    2296>3597>689  2296  3597\n",
      "528822         2.0    2296>3597>689  2296  3597\n",
      "587832     4, 5, 6   2296>2435>1941  2296  2435\n",
      "593957           S   2296>3706>1175  2296  3706\n",
      "615731         $O$    2296>3597>689  2296  3597\n",
      "707056          N+  3292>49>189>398  3292    49\n",
      "713429       X O K   2296>3597>3083  2296  3597\n"
     ]
    }
   ],
   "source": [
    "print('Number of entries with no decscription: ', len(np.argwhere(num_words_per_record==0)))\n",
    "\n",
    "print(' ')\n",
    "print('Entries with empty features: ')\n",
    "print(train_data.iloc[[i for i in np.argwhere(num_words_per_record==0)[:,0]]])"
   ]
  },
  {
   "cell_type": "markdown",
   "metadata": {},
   "source": [
    "### Test Data"
   ]
  },
  {
   "cell_type": "markdown",
   "metadata": {},
   "source": [
    "The test data contains 200,000 entries with the same fields as the training data. We've loaded the dataset and performed the same preprocessing here, but have intentionally limited exploration to avoid overfitting. A quick look at the first category label distribution shows that while it also seems to be unbalanced, it appears to be unbalanced in the same manner as the training data."
   ]
  },
  {
   "cell_type": "code",
   "execution_count": 14,
   "metadata": {},
   "outputs": [
    {
     "name": "stdout",
     "output_type": "stream",
     "text": [
      "Number of rows:  200000\n"
     ]
    },
    {
     "data": {
      "text/html": [
       "<div>\n",
       "<style scoped>\n",
       "    .dataframe tbody tr th:only-of-type {\n",
       "        vertical-align: middle;\n",
       "    }\n",
       "\n",
       "    .dataframe tbody tr th {\n",
       "        vertical-align: top;\n",
       "    }\n",
       "\n",
       "    .dataframe thead th {\n",
       "        text-align: right;\n",
       "    }\n",
       "</style>\n",
       "<table border=\"1\" class=\"dataframe\">\n",
       "  <thead>\n",
       "    <tr style=\"text-align: right;\">\n",
       "      <th></th>\n",
       "      <th>description</th>\n",
       "      <th>cat_full</th>\n",
       "      <th>cat_1</th>\n",
       "      <th>cat_2</th>\n",
       "    </tr>\n",
       "  </thead>\n",
       "  <tbody>\n",
       "    <tr>\n",
       "      <th>0</th>\n",
       "      <td>Sterling Silver Dangle Ball Earrings w/ Brilli...</td>\n",
       "      <td>1608&gt;2320&gt;2173&gt;3813</td>\n",
       "      <td>1608</td>\n",
       "      <td>2320</td>\n",
       "    </tr>\n",
       "    <tr>\n",
       "      <th>1</th>\n",
       "      <td>ALTERNATOR FREIGHTLINER FL FLC 112 120 FLD 112...</td>\n",
       "      <td>2199&gt;4592&gt;12</td>\n",
       "      <td>2199</td>\n",
       "      <td>4592</td>\n",
       "    </tr>\n",
       "    <tr>\n",
       "      <th>2</th>\n",
       "      <td>Disc Brake Rotor-Advanced Technology Rear Rayb...</td>\n",
       "      <td>2199&gt;4592&gt;12</td>\n",
       "      <td>2199</td>\n",
       "      <td>4592</td>\n",
       "    </tr>\n",
       "    <tr>\n",
       "      <th>3</th>\n",
       "      <td>Coquette Neon Pink Ruffle Babydoll 7035 Neon P...</td>\n",
       "      <td>1608&gt;4269&gt;3031&gt;1221</td>\n",
       "      <td>1608</td>\n",
       "      <td>4269</td>\n",
       "    </tr>\n",
       "    <tr>\n",
       "      <th>4</th>\n",
       "      <td>12V 7Ah (SPS Brand) APC NS3000RMT3U Replacemen...</td>\n",
       "      <td>3292&gt;114&gt;1231</td>\n",
       "      <td>3292</td>\n",
       "      <td>114</td>\n",
       "    </tr>\n",
       "  </tbody>\n",
       "</table>\n",
       "</div>"
      ],
      "text/plain": [
       "                                         description             cat_full  \\\n",
       "0  Sterling Silver Dangle Ball Earrings w/ Brilli...  1608>2320>2173>3813   \n",
       "1  ALTERNATOR FREIGHTLINER FL FLC 112 120 FLD 112...         2199>4592>12   \n",
       "2  Disc Brake Rotor-Advanced Technology Rear Rayb...         2199>4592>12   \n",
       "3  Coquette Neon Pink Ruffle Babydoll 7035 Neon P...  1608>4269>3031>1221   \n",
       "4  12V 7Ah (SPS Brand) APC NS3000RMT3U Replacemen...        3292>114>1231   \n",
       "\n",
       "  cat_1 cat_2  \n",
       "0  1608  2320  \n",
       "1  2199  4592  \n",
       "2  2199  4592  \n",
       "3  1608  4269  \n",
       "4  3292   114  "
      ]
     },
     "execution_count": 14,
     "metadata": {},
     "output_type": "execute_result"
    }
   ],
   "source": [
    "test_data = pd.read_csv('https://github.com/up-lab/rakuten-data-challenge/raw/master/rdc-catalog-test.tsv', header=0, names=['description', 'cat_full'], sep='\\t', )\n",
    "test_data['cat_1'] = test_data['cat_full'].apply(lambda x: x.split('>')[0])\n",
    "test_data['cat_2'] = test_data['cat_full'].apply(lambda x: x.split('>')[1] if (len(x.split('>'))>1) else np.nan)\n",
    "test_data.dropna(subset=['description','cat_1'], inplace=True)\n",
    "print('Number of rows: ', test_data.shape[0])\n",
    "test_data.head()\n"
   ]
  },
  {
   "cell_type": "code",
   "execution_count": 15,
   "metadata": {},
   "outputs": [
    {
     "data": {
      "text/plain": [
       "cat_1\n",
       "1208    0.000605\n",
       "1395    0.020385\n",
       "1608    0.105870\n",
       "2075    0.023325\n",
       "2199    0.127690\n",
       "2296    0.041095\n",
       "3093    0.006155\n",
       "3292    0.250175\n",
       "3625    0.039045\n",
       "3730    0.010055\n",
       "4015    0.330875\n",
       "4238    0.028400\n",
       "4564    0.005855\n",
       "92      0.010470\n",
       "dtype: float64"
      ]
     },
     "execution_count": 15,
     "metadata": {},
     "output_type": "execute_result"
    }
   ],
   "source": [
    "#Looking at how balanaced the test set is\n",
    "test_data.groupby('cat_1').apply(len)/len(test_data['cat_1'])"
   ]
  },
  {
   "cell_type": "markdown",
   "metadata": {},
   "source": [
    "## Performance Metrics"
   ]
  },
  {
   "cell_type": "markdown",
   "metadata": {},
   "source": [
    "The most straightforward metric is of course accuracy. Accuracy simply tells us the percentage that the classifier predicts the correct label.\n",
    "\n",
    "An evaluation tool we will look at here is a confusion matrix (at least for the first level of categorization). The confusion matrix is a grid showing number/percentage of each predicted labels vs the actual labels. This may be advantageous for debugging purposes (e.g. are there two classes that are often confused for one another?).\n",
    "\n",
    "Other performance metrics should be considered depending on system design intentions. If this is a human-in-the-loop system and the accuracy is only ok, I would recommend another performance metric here that measures how well the classifier understands its' ability to predict the output. In other words, how accurate is the classifiers' prediction probability? One example of this type of metric would be the Brier score. In this system, if the prediction probabilities are determined to be reliable, a confidence threshold could be set and all predictions whose probability is below that threshold would be flagged for human validation and feedback. This type of metric was not evaluated here but is strongly recommended after further use case review with stakeholders."
   ]
  },
  {
   "cell_type": "code",
   "execution_count": 16,
   "metadata": {},
   "outputs": [],
   "source": [
    "#test for accuracy\n",
    "def display_performance(classifier, test_x, test_y, train_x=[], train_y=[]):\n",
    "    \"\"\"\n",
    "    Prints accuracy and confusion matrix for specified classifier and test set.\n",
    "    Displays the confusion matrix. \n",
    "    \n",
    "    \"\"\"\n",
    "\n",
    "    if (train_x.shape[0]>0) & (train_y.shape[0]>0):\n",
    "        train_accuracy = classifier.score(train_x, train_y)\n",
    "        print('Overall Training Set Accuracy: ', train_accuracy)\n",
    "        cv_scores = cross_val_score(classifier, train_x, train_y, cv=5)\n",
    "        print('Cross-validated Training Set Accuracy: {:.2f} +/- {:.2f}'.format(np.mean(cv_scores), np.std(cv_scores)))\n",
    "    \n",
    "    accuracy = classifier.score(test_x, test_y)\n",
    "    \n",
    "    print('Test Set Accuracy: ', accuracy)\n",
    "    \n",
    "    predictions = classifier.predict(test_x)\n",
    "    num_labels = len(classifier.classes_)\n",
    "    cf_matrix = np.zeros((num_labels, num_labels))\n",
    "    labels = np.unique(test_y)\n",
    "    \n",
    "    for i, prediction in enumerate(predictions):\n",
    "        label_actual = test_y[i]\n",
    "        label_actual_idx = np.argwhere(labels==label_actual)[0]\n",
    "        predict_label_idx = np.argwhere(labels==prediction)[0]\n",
    "        cf_matrix[label_actual_idx, predict_label_idx] += 1\n",
    "        cf_matrix_norm = normalize(cf_matrix, axis=1, norm='l1')\n",
    "\n",
    "    sns.heatmap(cf_matrix_norm, xticklabels=labels, yticklabels=labels, cmap=\"YlGnBu\")\n",
    "    plt.ylabel('Actual Label')\n",
    "    plt.xlabel('Predicted Label')\n",
    "    plt.show()\n",
    "    \n",
    "    "
   ]
  },
  {
   "cell_type": "markdown",
   "metadata": {},
   "source": [
    "## Model and Parameter Tuning\n",
    "\n",
    "Finally, we build a machine learning classifier. For this task, we will use a multinomial Naïve Bayes classifier. As discussed in data analysis, the features will be a count vector of the tokens generated from the product descriptions. The labels will be the product categories. This section shows the implementation of the classifier model, model tuning and performance of level 1 and level 2 category classification."
   ]
  },
  {
   "cell_type": "markdown",
   "metadata": {},
   "source": [
    "### Naïve Bayes Multinomial Classifier - Category Level 1 \n",
    "\n",
    "First, we look at the classifier performance for level 1 product category classification.\n",
    "\n",
    "For a very simple classifier setup (i.e. no additional data processing beyond basic token count vectorizing and default parameters for the scikit learn Bayes multinomial classifier), we show a classification accuracy of 85.0%.\n",
    "\n",
    "The confusion matrix breaks down the performance of each label to give us more details about performance. The rows show the actual prediction label and the columns shows the classifier's prediction. The color of the grid denotes the density of the actual/predicted label. A perfect classifier would show only the diagonal populated. This confusion matrix is normalized by row. There are several interesting aspects to note in this confusion matrix. For the \"1208\" labels, the classifier almost always predicted \"4015\". For the \"4015\" labels, the classifier performs nearly perfectly. Most incorrect predictions predict the \"4015\" label. If we look back to the data analysis where we looked at the distribution of training labels, we see that the \"4015\" label comprised a large portion of the training set. I hypothesize that because the Bayes classifier is based on Bayes theorem which incorporates the probability of a label, that removing that variable (the fit prior) in the classifier will result in better performance.\n",
    "\n",
    "Finally, we do some early (and minimal) tuning of the classifier to see if there are some better parameter choices for our machine learning model. We perform a grid search of the following parameters: the removing/not removing stop words from the product descriptions, use of 1- or 1- and 2- grams and presence/absence of the fit prior in the multinomial Bayes classifier. This grid search revealed the best parameters were using 1- and 2- grams, not removing stop words and removing fit prior from the Bayes calculation, which yielded accuracy of 87.8%"
   ]
  },
  {
   "cell_type": "code",
   "execution_count": 17,
   "metadata": {},
   "outputs": [
    {
     "name": "stdout",
     "output_type": "stream",
     "text": [
      "Overall Training Set Accuracy:  0.880355\n",
      "Cross-validated Training Set Accuracy: 0.86 +/- 0.00\n",
      "Test Set Accuracy:  0.85021\n"
     ]
    },
    {
     "data": {
      "image/png": "[encoded data removed]",
      "text/plain": [
       "<Figure size 432x288 with 2 Axes>"
      ]
     },
     "metadata": {
      "needs_background": "light"
     },
     "output_type": "display_data"
    }
   ],
   "source": [
    "#setting up a pipeline to ease parameter tuning later\n",
    "bayes_pipeline = Pipeline([\n",
    "    ('vectorizer', CountVectorizer()),\n",
    "    ('classifier', MultinomialNB(),)])\n",
    "bayes_pipeline.fit(train_data['description'], train_data['cat_1'])\n",
    "display_performance(bayes_pipeline.named_steps['classifier'], \n",
    "                    bayes_pipeline.named_steps['vectorizer'].transform(test_data['description']), test_data['cat_1'], \n",
    "                    bayes_pipeline.named_steps['vectorizer'].transform(train_data['description']), train_data['cat_1']\n",
    "                   )"
   ]
  },
  {
   "cell_type": "code",
   "execution_count": 18,
   "metadata": {},
   "outputs": [
    {
     "name": "stdout",
     "output_type": "stream",
     "text": [
      "Best train score after grid search:  0.8929525\n",
      "\n",
      "classifier__fit_prior: False\n",
      "vectorizer__ngram_range: (1, 2)\n",
      "vectorizer__stop_words: None\n",
      "\n",
      "Best test score after grid search:  0.8783\n"
     ]
    }
   ],
   "source": [
    "#grid search on a few different parameters we can tune\n",
    "params = {'vectorizer__ngram_range': [(1, 1), (1, 2)],\n",
    "          'vectorizer__stop_words': ('english', None),\n",
    "          'classifier__fit_prior': (True, False),\n",
    "    }\n",
    "\n",
    "grid_search = GridSearchCV(bayes_pipeline, params, cv=5, n_jobs=-1)\n",
    "grid_search.fit(train_data['description'], train_data['cat_1'])\n",
    "print('Best train score after grid search: ', grid_search.best_score_)\n",
    "print('')\n",
    "for param_name in sorted(params.keys()):\n",
    "    print(\"%s: %r\" % (param_name, grid_search.best_params_[param_name]))\n",
    "\n",
    "print('')\n",
    "print('Best test score after grid search: ', grid_search.score(test_data['description'], test_data['cat_1']))"
   ]
  },
  {
   "cell_type": "markdown",
   "metadata": {},
   "source": [
    "### Naïve Bayes Multinomial Classifier - Category Level 2\n",
    "\n",
    "Next, we look at the classifier performance for level 2 product category classification. Our simple classifier setup (i.e. no additional data processing beyond basic token count vectorizing and default parameters for the scikit learn Bayes multinomial classifier), we show a classification accuracy of 75.2%. It is unsurprising that the accuracy would decrease since the number of classes increased from 14 to 109. One interesting idea for future work would be the progressive use of previous category as a feature. Previously we mentioned a potential human-in-the-loop system where the classification was human-assisted. In this example, if we were reasonably confident in the first level category either through the system's confidence or confirmation from the user, that category might be used as a feature for better second level category classification.\n",
    "\n",
    "The confusion matrix isn't shown here because there are so many classes that its' usefulness is questionable.\n",
    "\n",
    "Finally, we did the same minimal grid search of optimal parameters for the classifier system. This grid search revealed the best parameters were using 1- and 2- grams, removing stop words and removing fit prior from the Bayes calculation, which yielded accuracy of 79.6%. This selection of parameters was pretty close to the category level 1 parameters except now it was better to include the stop word removal in data processing."
   ]
  },
  {
   "cell_type": "code",
   "execution_count": 19,
   "metadata": {},
   "outputs": [
    {
     "name": "stdout",
     "output_type": "stream",
     "text": [
      "Accuracy:  0.752155\n"
     ]
    }
   ],
   "source": [
    "bayes_pipeline2 = Pipeline([\n",
    "    ('vectorizer', CountVectorizer()),\n",
    "    ('classifier', MultinomialNB(),)])\n",
    "\n",
    "train_data_level2_cleaned = train_data.fillna('')\n",
    "test_data_level2_cleaned = test_data.fillna('')\n",
    "bayes_pipeline2.fit(train_data_level2_cleaned['description'], train_data_level2_cleaned['cat_2'])\n",
    "\n",
    "print('Accuracy: ', bayes_pipeline2.score(test_data_level2_cleaned['description'], test_data_level2_cleaned['cat_2']))\n"
   ]
  },
  {
   "cell_type": "code",
   "execution_count": null,
   "metadata": {},
   "outputs": [
    {
     "name": "stderr",
     "output_type": "stream",
     "text": [
      "/Users/annadixon/Documents/coding/misc/censusbureau/env/lib/python3.7/site-packages/sklearn/model_selection/_split.py:672: UserWarning: The least populated class in y has only 1 members, which is less than n_splits=5.\n",
      "  % (min_groups, self.n_splits)), UserWarning)\n"
     ]
    }
   ],
   "source": [
    "#grid search on a few different parameters we can tune\n",
    "params = {'vectorizer__ngram_range': [(1, 1), (1, 2)],\n",
    "          'vectorizer__stop_words': ('english', None),\n",
    "          'classifier__fit_prior': (True, False),\n",
    "    }\n",
    "\n",
    "grid_search = GridSearchCV(bayes_pipeline2, params, cv=5, n_jobs=-1)\n",
    "grid_search.fit(train_data_level2_cleaned['description'], train_data_level2_cleaned['cat_2'])\n",
    "print('Best train score after grid search: ', grid_search.best_score_)\n",
    "print('')\n",
    "for param_name in sorted(params.keys()):\n",
    "    print(\"%s: %r\" % (param_name, grid_search.best_params_[param_name]))\n",
    "\n",
    "print('')\n",
    "print('Best test score after grid search: ', grid_search.score(test_data_level2_cleaned['description'], test_data_level2_cleaned['cat_2']))"
   ]
  },
  {
   "cell_type": "markdown",
   "metadata": {},
   "source": [
    "## Conclusions\n",
    "\n",
    "This notebook shows an early attempt to address a key stakeholder issue which is the classification of products from product descriptions. We present some data analysis to show some characteristics of our data features and labels. We show that a straightforward performance metric for a multilabel classification system is accuracy, but leave open the possibility of performance metrics that account for prediction probabilities. Finally, we evaluate the performance of a multinomial Naïve Bayes classifier for text classification which initially achieved a 85.0% accuracy for first level category classification and 75.2% accuracy for second level category classification. We show that benefits of parameter tuning which sees a 2.8% accuracy improvement at the first level category classification and a 4.4% accuracy improvement at the second level category classification.\n",
    "\n",
    "There are several avenues for future work in this project, but our top recommendations would include refinement of performance metrics based on further stakeholder conversations, more feature processing including stemming/lemmatization and English translation and a deeper investigation of text classification choices beyond the Bayes classifier."
   ]
  }
 ],
 "metadata": {
  "kernelspec": {
   "display_name": "censusbureau",
   "language": "python",
   "name": "censusbureau"
  },
  "language_info": {
   "codemirror_mode": {
    "name": "ipython",
    "version": 3
   },
   "file_extension": ".py",
   "mimetype": "text/x-python",
   "name": "python",
   "nbconvert_exporter": "python",
   "pygments_lexer": "ipython3",
   "version": "3.7.6"
  },
  "toc": {
   "base_numbering": 1,
   "nav_menu": {},
   "number_sections": true,
   "sideBar": true,
   "skip_h1_title": false,
   "title_cell": "Table of Contents",
   "title_sidebar": "Contents",
   "toc_cell": false,
   "toc_position": {
    "height": "calc(100% - 180px)",
    "left": "10px",
    "top": "150px",
    "width": "165px"
   },
   "toc_section_display": true,
   "toc_window_display": true
  },
  "varInspector": {
   "cols": {
    "lenName": 16,
    "lenType": 16,
    "lenVar": 40
   },
   "kernels_config": {
    "python": {
     "delete_cmd_postfix": "",
     "delete_cmd_prefix": "del ",
     "library": "var_list.py",
     "varRefreshCmd": "print(var_dic_list())"
    },
    "r": {
     "delete_cmd_postfix": ") ",
     "delete_cmd_prefix": "rm(",
     "library": "var_list.r",
     "varRefreshCmd": "cat(var_dic_list()) "
    }
   },
   "types_to_exclude": [
    "module",
    "function",
    "builtin_function_or_method",
    "instance",
    "_Feature"
   ],
   "window_display": false
  }
 },
 "nbformat": 4,
 "nbformat_minor": 2
}
