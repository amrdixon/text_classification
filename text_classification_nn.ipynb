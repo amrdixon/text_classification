{
 "cells": [
  {
   "cell_type": "markdown",
   "metadata": {},
   "source": [
    "## Deep Learning - Multinomial Classification of Textual Data\n",
    "\n",
    "The objective of this work is to perform multinomial classification of products based on a text description. Initial data exploration, feature exploration and discussions of performance metrics is given in [this notebook](./initial_data_analysis) This notebook shows an implementation of a neural network text classifier."
   ]
  },
  {
   "cell_type": "code",
   "execution_count": 16,
   "metadata": {},
   "outputs": [],
   "source": [
    "%%capture\n",
    "import matplotlib.pyplot as plt\n",
    "import os\n",
    "import re\n",
    "import shutil\n",
    "import string\n",
    "import tensorflow as tf\n",
    "from sklearn.model_selection import train_test_split\n",
    "import pandas as pd\n",
    "from sklearn.preprocessing import LabelEncoder\n",
    "import numpy as np\n",
    "import seaborn as sns\n",
    "from sklearn.preprocessing import normalize\n",
    "\n",
    "from tensorflow.keras import layers\n",
    "from tensorflow.keras import losses\n",
    "from tensorflow.keras import preprocessing\n",
    "from tensorflow.keras.layers.experimental.preprocessing import TextVectorization\n",
    "from tensorflow import keras\n",
    "\n",
    "import import_ipynb\n",
    "from initial_data_analysis import import_format_data"
   ]
  },
  {
   "cell_type": "markdown",
   "metadata": {},
   "source": [
    "## Model and Parameter Tuning\n",
    "\n",
    "For this task, we will use a neural network classifier. Just as in our [Bayes model](./text_classification_bayes\n",
    ".ipynb), the features are derived from a bag of words model of the product descriptions. While our Bayes model used a count vector of product description, this work explores the similar binary vector which measures the presence/absence of a token in a product description. The labels will be the product categories. This section shows the implementation of feedforward neural network classifier model."
   ]
  },
  {
   "cell_type": "markdown",
   "metadata": {},
   "source": [
    "### Neural Network Classifier - Category Level 1 \n",
    "\n",
    "First, we look at the classifier performance for level 1 product category classification.\n",
    "\n",
    "We constructed a 2-layer neural network. The output layer has 14 nodes (number of output labels) with the softmax activation function. The hidden layer consists 140 nodes utilizing the tanh activation function. For the input layer, we restricted the vectorizer's output to a maximum of 30,000 tokens. Training set accuracy dramatically improves with increasing number of possible tokens, but to explore a larger input vector seems to require a better computation platform (e.g. AWS). Dev set and training set accuracy also improves but at a smaller rate. In essence, increasing the input layer's size greatly decreases unavoidable bias (underfitting) in the system, improves overall accuracy, but does notably increase variance (overfitting) as there is now a greater delta in performance between the training set accuracy and dev/test set accuracy. The model's optimizer uses the Adam optimizer to minimize the cross entropy loss function.\n",
    "\n",
    "For the final metrics of the model before extensive model tuning is as follows: training accuracy was 97.4%, dev set accuracy was 90.6% and test set accuracy was 88.4%.\n"
   ]
  },
  {
   "cell_type": "code",
   "execution_count": 2,
   "metadata": {},
   "outputs": [],
   "source": [
    "#download training and test sets\n",
    "train_data = import_format_data('https://github.com/up-lab/rakuten-data-challenge/raw/master/rdc-catalog-train.tsv')\n",
    "test_data = import_format_data('https://github.com/up-lab/rakuten-data-challenge/raw/master/rdc-catalog-test.tsv')\n",
    "\n",
    "#encoder to convert categories to ints\n",
    "num_classes = len(train_data['cat_1'].unique())\n",
    "le = LabelEncoder()\n",
    "le.fit(train_data['cat_1'])\n",
    "train_data['cat_1_encoded'] = le.transform(train_data['cat_1'])\n",
    "test_data['cat_1_encoded'] = le.transform(test_data['cat_1'])\n",
    "\n",
    "\n",
    "#shuffle and split the training set into a training and dev set\n",
    "train, dev = train_test_split(train_data, test_size=0.2, random_state=17)\n",
    "\n",
    "#load them into a tf.data.Dataset object to leverage helper extra functionality\n",
    "batch_size = 32\n",
    "train_dataset = tf.data.Dataset.from_tensor_slices((train['description'].values, train['cat_1_encoded'].values))\n",
    "train_dataset = train_dataset.batch(batch_size)\n",
    "dev_dataset = tf.data.Dataset.from_tensor_slices((dev['description'].values, dev['cat_1_encoded'].values))\n",
    "dev_dataset = dev_dataset.batch(batch_size)\n",
    "test_dataset = tf.data.Dataset.from_tensor_slices((test_data['description'].values, test_data['cat_1_encoded'].values))\n",
    "test_dataset = test_dataset.batch(batch_size)\n"
   ]
  },
  {
   "cell_type": "code",
   "execution_count": 3,
   "metadata": {},
   "outputs": [],
   "source": [
    "#vectorize the text data\n",
    "#create the vecotrizer\n",
    "max_features = 30000\n",
    "vectorize_layer = TextVectorization(output_mode='binary', max_tokens = max_features)\n",
    "\n",
    "# Make a text-only dataset (without labels), then call adapt\n",
    "train_text = train_dataset.map(lambda x, y: x)\n",
    "vectorize_layer.adapt(train_text)\n",
    "\n",
    "\n",
    "def vectorize_text(text, label):\n",
    "  text = tf.expand_dims(text, -1)\n",
    "  return vectorize_layer(text), label\n",
    "\n",
    "\n",
    "train_ds = train_dataset.map(vectorize_text)\n",
    "dev_ds = dev_dataset.map(vectorize_text)\n",
    "test_ds = test_dataset.map(vectorize_text)"
   ]
  },
  {
   "cell_type": "code",
   "execution_count": 4,
   "metadata": {},
   "outputs": [
    {
     "name": "stdout",
     "output_type": "stream",
     "text": [
      "Review tf.Tensor(b'Tech Lighting 700MPRHNBBZ Rhonan Low-Voltage Mini Pendant For', shape=(), dtype=string)\n",
      "10\n",
      "Label ['4015']\n",
      "Vectorized review (<tf.Tensor: shape=(1, 30000), dtype=float32, numpy=array([[1., 1., 0., ..., 0., 0., 0.]], dtype=float32)>, <tf.Tensor: shape=(), dtype=int64, numpy=10>)\n"
     ]
    }
   ],
   "source": [
    "text_batch, label_batch = next(iter(train_dataset))\n",
    "first_review, first_label = text_batch[0], label_batch[0]\n",
    "print(\"Review\", first_review)\n",
    "print(first_label.numpy())\n",
    "print(\"Label\", le.inverse_transform([first_label.numpy()]))\n",
    "print(\"Vectorized review\", vectorize_text(first_review, first_label))\n"
   ]
  },
  {
   "cell_type": "code",
   "execution_count": 5,
   "metadata": {},
   "outputs": [],
   "source": [
    "#cache some of your data\n",
    "AUTOTUNE = tf.data.experimental.AUTOTUNE\n",
    "\n",
    "train_ds = train_ds.cache().prefetch(buffer_size=AUTOTUNE)\n",
    "dev_ds = dev_ds.cache().prefetch(buffer_size=AUTOTUNE)\n",
    "#test_ds = test_ds.cache().prefetch(buffer_size=AUTOTUNE)"
   ]
  },
  {
   "cell_type": "code",
   "execution_count": 6,
   "metadata": {},
   "outputs": [
    {
     "name": "stdout",
     "output_type": "stream",
     "text": [
      "Model: \"sequential\"\n",
      "_________________________________________________________________\n",
      "Layer (type)                 Output Shape              Param #   \n",
      "=================================================================\n",
      "dense (Dense)                (None, 140)               4200140   \n",
      "_________________________________________________________________\n",
      "dense_1 (Dense)              (None, 14)                1974      \n",
      "=================================================================\n",
      "Total params: 4,202,114\n",
      "Trainable params: 4,202,114\n",
      "Non-trainable params: 0\n",
      "_________________________________________________________________\n"
     ]
    }
   ],
   "source": [
    "#create the neural net model\n",
    "\n",
    "num_classes = len(train_data['cat_1'].unique())\n",
    "\n",
    "model = tf.keras.Sequential([      \n",
    "    layers.Dense(num_classes*10, input_shape=(max_features ,), activation='tanh'),\n",
    "    layers.Dense(num_classes, activation='softmax')])\n",
    "\n",
    "model.summary()\n"
   ]
  },
  {
   "cell_type": "code",
   "execution_count": 7,
   "metadata": {},
   "outputs": [],
   "source": [
    "#configure optimizer and loss function \n",
    "model.compile(loss=losses.SparseCategoricalCrossentropy(), optimizer='adam', metrics=['accuracy'])\n"
   ]
  },
  {
   "cell_type": "code",
   "execution_count": 8,
   "metadata": {},
   "outputs": [
    {
     "name": "stdout",
     "output_type": "stream",
     "text": [
      "Epoch 1/10\n",
      "20000/20000 [==============================] - 222s 11ms/step - loss: 0.3693 - accuracy: 0.8933 - val_loss: 0.3123 - val_accuracy: 0.9077\n",
      "Epoch 2/10\n",
      "20000/20000 [==============================] - 239s 12ms/step - loss: 0.2658 - accuracy: 0.9204 - val_loss: 0.3028 - val_accuracy: 0.9113\n",
      "Epoch 3/10\n",
      "20000/20000 [==============================] - 239s 12ms/step - loss: 0.2289 - accuracy: 0.9312 - val_loss: 0.3064 - val_accuracy: 0.9126\n",
      "Epoch 4/10\n",
      "20000/20000 [==============================] - 239s 12ms/step - loss: 0.1965 - accuracy: 0.9411 - val_loss: 0.3196 - val_accuracy: 0.9117\n",
      "Epoch 5/10\n",
      "20000/20000 [==============================] - 240s 12ms/step - loss: 0.1695 - accuracy: 0.9495 - val_loss: 0.3358 - val_accuracy: 0.9107\n",
      "Epoch 6/10\n",
      "20000/20000 [==============================] - 235s 12ms/step - loss: 0.1478 - accuracy: 0.9563 - val_loss: 0.3534 - val_accuracy: 0.9096\n",
      "Epoch 7/10\n",
      "20000/20000 [==============================] - 236s 12ms/step - loss: 0.1303 - accuracy: 0.9619 - val_loss: 0.3714 - val_accuracy: 0.9082\n",
      "Epoch 8/10\n",
      "20000/20000 [==============================] - 237s 12ms/step - loss: 0.1158 - accuracy: 0.9665 - val_loss: 0.3895 - val_accuracy: 0.9072\n",
      "Epoch 9/10\n",
      "20000/20000 [==============================] - 237s 12ms/step - loss: 0.1035 - accuracy: 0.9703 - val_loss: 0.4074 - val_accuracy: 0.9066\n",
      "Epoch 10/10\n",
      "20000/20000 [==============================] - 237s 12ms/step - loss: 0.0927 - accuracy: 0.9737 - val_loss: 0.4253 - val_accuracy: 0.9064\n"
     ]
    }
   ],
   "source": [
    "#train model\n",
    "epochs = 10\n",
    "history = model.fit(\n",
    "    train_ds,\n",
    "    validation_data=dev_ds,\n",
    "    epochs=epochs)\n"
   ]
  },
  {
   "cell_type": "code",
   "execution_count": 20,
   "metadata": {},
   "outputs": [
    {
     "name": "stdout",
     "output_type": "stream",
     "text": [
      "6250/6250 [==============================] - 35s 6ms/step - loss: 0.6545 - accuracy: 0.8842\n",
      "Test Set Accuracy:  0.8841649889945984\n"
     ]
    },
    {
     "data": {
      "image/png": "[encoded data removed]",
      "text/plain": [
       "<Figure size 432x288 with 2 Axes>"
      ]
     },
     "metadata": {
      "needs_background": "light"
     },
     "output_type": "display_data"
    }
   ],
   "source": [
    "#test performance\n",
    "def display_performance(model, test_ds, test_ds_labels, labels):\n",
    "    \"\"\"\n",
    "    Prints accuracy and confusion matrix for specified classifier and test set.\n",
    "    Displays the confusion matrix. \n",
    "    \n",
    "    \"\"\"\n",
    "\n",
    "    loss, accuracy = model.evaluate(test_ds)\n",
    "\n",
    "    print('Test Set Accuracy: ', accuracy)\n",
    "\n",
    "    predictions = model.predict(test_ds)\n",
    "    num_labels = model.get_layer(index=1).output_shape[-1]\n",
    "    \n",
    "    cf_matrix = np.zeros((num_labels, num_labels))\n",
    "    \n",
    "    for i, prediction in enumerate(predictions):\n",
    "        label_actual_idx = test_ds_labels[i]\n",
    "        predict_label_idx = np.argmax(prediction)\n",
    "        cf_matrix[label_actual_idx, predict_label_idx] += 1\n",
    "        \n",
    "    cf_matrix_norm = normalize(cf_matrix, axis=1, norm='l1')\n",
    "\n",
    "    sns.heatmap(cf_matrix_norm, xticklabels=labels, yticklabels=labels, cmap=\"YlGnBu\")\n",
    "    plt.ylabel('Actual Label')\n",
    "    plt.xlabel('Predicted Label')\n",
    "    plt.show()\n",
    "\n",
    "display_performance(model, test_ds, test_data['cat_1_encoded'], le.classes_)\n",
    "    "
   ]
  },
  {
   "cell_type": "code",
   "execution_count": null,
   "metadata": {},
   "outputs": [],
   "source": []
  }
 ],
 "metadata": {
  "kernelspec": {
   "display_name": "censusbureau",
   "language": "python",
   "name": "censusbureau"
  },
  "language_info": {
   "codemirror_mode": {
    "name": "ipython",
    "version": 3
   },
   "file_extension": ".py",
   "mimetype": "text/x-python",
   "name": "python",
   "nbconvert_exporter": "python",
   "pygments_lexer": "ipython3",
   "version": "3.7.6"
  },
  "toc": {
   "base_numbering": 1,
   "nav_menu": {},
   "number_sections": true,
   "sideBar": true,
   "skip_h1_title": false,
   "title_cell": "Table of Contents",
   "title_sidebar": "Contents",
   "toc_cell": false,
   "toc_position": {},
   "toc_section_display": true,
   "toc_window_display": true
  },
  "varInspector": {
   "cols": {
    "lenName": 16,
    "lenType": 16,
    "lenVar": 40
   },
   "kernels_config": {
    "python": {
     "delete_cmd_postfix": "",
     "delete_cmd_prefix": "del ",
     "library": "var_list.py",
     "varRefreshCmd": "print(var_dic_list())"
    },
    "r": {
     "delete_cmd_postfix": ") ",
     "delete_cmd_prefix": "rm(",
     "library": "var_list.r",
     "varRefreshCmd": "cat(var_dic_list()) "
    }
   },
   "types_to_exclude": [
    "module",
    "function",
    "builtin_function_or_method",
    "instance",
    "_Feature"
   ],
   "window_display": false
  }
 },
 "nbformat": 4,
 "nbformat_minor": 2
}
