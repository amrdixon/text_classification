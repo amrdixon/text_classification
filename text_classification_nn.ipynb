{
 "cells": [
  {
   "cell_type": "markdown",
   "metadata": {},
   "source": [
    "## Deep Learning - Multinomial Classification of Textual Data\n",
    "\n",
    "The objective of this work is to perform multinomial classification of products based on a text description. Initial data exploration, feature exploration and discussions of performance metrics is given in [this notebook](./initial_data_analysis) This notebook shows an implementation of a neural network text classifier."
   ]
  },
  {
   "cell_type": "code",
   "execution_count": 1,
   "metadata": {},
   "outputs": [],
   "source": [
    "%%capture\n",
    "import matplotlib.pyplot as plt\n",
    "import os\n",
    "import re\n",
    "import shutil\n",
    "import string\n",
    "import tensorflow as tf\n",
    "from sklearn.model_selection import train_test_split\n",
    "import pandas as pd\n",
    "from sklearn.preprocessing import LabelEncoder\n",
    "import numpy as np\n",
    "import seaborn as sns\n",
    "from sklearn.preprocessing import normalize\n",
    "from pathlib import Path\n",
    "\n",
    "from tensorflow.keras import layers\n",
    "from tensorflow.keras import losses\n",
    "from tensorflow.keras import preprocessing\n",
    "from tensorflow.keras.layers.experimental.preprocessing import TextVectorization\n",
    "from tensorflow import keras\n",
    "\n",
    "import datetime\n",
    "\n",
    "import import_ipynb\n",
    "from initial_data_analysis import import_format_data"
   ]
  },
  {
   "cell_type": "markdown",
   "metadata": {},
   "source": [
    "## Neural Network Product Text Category Classifier\n",
    "\n",
    "For this task, we will use a neural network classifier. Just as in our [Bayes model](./text_classification_bayes.ipynb), the features are derived from a bag of words model of the product descriptions. While our Bayes model used a count vector of product description, this work explores the similar binary vector which measures the presence/absence of a token in a product description. The labels will be the product categories. This section shows the implementation of feedforward neural network classifier model."
   ]
  },
  {
   "cell_type": "markdown",
   "metadata": {},
   "source": [
    "### Category Level 1 \n",
    "\n",
    "First, we look at the classifier performance for level 1 product category classification.\n",
    "\n",
    "We constructed a 2-layer neural network. The output layer has 14 nodes (number of output labels) with the softmax activation function. The hidden layer consists 140 nodes utilizing the tanh activation function. For the input layer, we restricted the vectorizer's output to a maximum of 30,000 tokens. Training set accuracy dramatically improves with increasing number of possible tokens, but to explore a larger input vector seems to require a better computation platform (e.g. AWS). Dev set and training set accuracy also improves but at a smaller rate. In essence, increasing the input layer's size greatly decreases unavoidable bias (underfitting) in the system, improves overall accuracy, but does notably increase variance (overfitting) as there is now a greater delta in performance between the training set accuracy and dev/test set accuracy. The model's optimizer uses the Adam optimizer to minimize the cross entropy loss function.\n",
    "\n",
    "For the final metrics of the model before model tuning is as follows: training accuracy was 97.4%, dev set accuracy was 90.6% and test set accuracy was 88.4%.\n"
   ]
  },
  {
   "cell_type": "code",
   "execution_count": 2,
   "metadata": {},
   "outputs": [],
   "source": [
    "class TextClassifierNN:\n",
    "    \n",
    "    train_data_url = 'https://github.com/up-lab/rakuten-data-challenge/raw/master/rdc-catalog-train.tsv'\n",
    "    test_data_url = 'https://github.com/up-lab/rakuten-data-challenge/raw/master/rdc-catalog-test.tsv'\n",
    "    \n",
    "    random_state = 17\n",
    "    num_classes = None\n",
    "    max_features = 30000\n",
    "    \n",
    "    train_ds = None\n",
    "    dev_ds = None\n",
    "    test_ds = None\n",
    "    model = None\n",
    "    \n",
    "    label_encoder = None\n",
    "    \n",
    "    test_data = None\n",
    "    train_data = None\n",
    "    \n",
    "    def __init__(self, label_field='cat_1', text_feature_field='description', hparams={'HP_DROPOUT': 0}, model_path=Path()):\n",
    "        \n",
    "        #preprocess input text data to vectorized count features\n",
    "        self.train_data = import_format_data(self.train_data_url)\n",
    "        self.test_data = import_format_data(self.test_data_url)\n",
    "\n",
    "        self.train_ds, self.dev_ds, self.test_ds = self.vectorize_all_text(self.train_data, self.test_data, label_field, text_feature_field)\n",
    "\n",
    "        #define the model params\n",
    "        self.hparams = hparams\n",
    "        \n",
    "        \n",
    "        if model_path == Path():\n",
    "            self.model = self.construct_train_model(self.train_ds, self.dev_ds, hparams)\n",
    "        else:\n",
    "            self.model = keras.models.load_model(model_path)\n",
    "            \n",
    "        \n",
    "    def vectorize_all_text(self, train_df, test_df, label_field, text_feature_field):\n",
    "        #encoder to convert categories to ints\n",
    "        self.num_classes = len(train_df[label_field].unique())\n",
    "        self.label_encoder = LabelEncoder()\n",
    "        self.label_encoder.fit(train_df[label_field])\n",
    "        train_df['label_encoded'] = self.label_encoder.transform(train_df[label_field])\n",
    "        test_df['label_encoded'] = self.label_encoder.transform(test_df[label_field])\n",
    "        \n",
    "        #shuffle and split the training set into a training and dev set\n",
    "        train, dev = train_test_split(train_df, test_size=0.2, random_state=self.random_state)\n",
    "\n",
    "        #load them into a tf.data.Dataset object to leverage helper extra functionality\n",
    "        batch_size = 32\n",
    "        train_dataset = tf.data.Dataset.from_tensor_slices((train[text_feature_field].values, train['label_encoded'].values))\n",
    "        train_dataset = train_dataset.batch(batch_size)\n",
    "        dev_dataset = tf.data.Dataset.from_tensor_slices((dev[text_feature_field].values, dev['label_encoded'].values))\n",
    "        dev_dataset = dev_dataset.batch(batch_size)\n",
    "        test_dataset = tf.data.Dataset.from_tensor_slices((test_df[text_feature_field].values, test_df['label_encoded'].values))\n",
    "        test_dataset = test_dataset.batch(batch_size)\n",
    "        \n",
    "        #convert ints to one hot encoding\n",
    "        #create the vecotrizer\n",
    "        \n",
    "        vectorize_layer = TextVectorization(output_mode='binary', max_tokens = self.max_features)\n",
    "\n",
    "        # Make a text-only dataset (without labels), then call adapt\n",
    "        train_text = train_dataset.map(lambda x, y: x)\n",
    "        vectorize_layer.adapt(train_text)\n",
    "        \n",
    "        def vectorize_text(text, label):\n",
    "            text = tf.expand_dims(text, -1)\n",
    "            return vectorize_layer(text), label\n",
    "\n",
    "\n",
    "        train_ds = train_dataset.map(vectorize_text)\n",
    "        dev_ds = dev_dataset.map(vectorize_text)\n",
    "        test_ds = test_dataset.map(vectorize_text)\n",
    "        \n",
    "        return train_ds, dev_ds, test_ds\n",
    "    \n",
    "    \n",
    "    def construct_train_model(self, train_ds, dev_ds, hparams):\n",
    "        \n",
    "        model = tf.keras.Sequential([      \n",
    "            layers.Dense(self.num_classes*10, input_shape=(self.max_features ,), activation='tanh'),\n",
    "            layers.Dropout(hparams['HP_DROPOUT']),\n",
    "            layers.Dense(self.num_classes, activation='softmax')])\n",
    "  \n",
    "        model.compile(\n",
    "            optimizer='adam',\n",
    "            loss='sparse_categorical_crossentropy',\n",
    "            metrics=['sparse_categorical_accuracy']\n",
    "        )\n",
    "    \n",
    "        #train model\n",
    "        epochs = 10\n",
    "        history = model.fit(\n",
    "            train_ds,\n",
    "            validation_data=dev_ds,\n",
    "            epochs=epochs)\n",
    "        \n",
    "        return model                                     \n",
    "        \n",
    "    def evaluate_model(self, test_ds=None):\n",
    "        if test_ds == None:\n",
    "            test_ds = self.test_ds\n",
    "        loss, accuracy = self.model.evaluate(test_ds)\n",
    "        print('Accuracy: ', accuracy)\n",
    "        return accuracy\n",
    "        \n",
    "        \n",
    "    def save_model(self, filename = None):\n",
    "        if filename is None:\n",
    "            filename = 'model_' + datetime.now().strftime(\"%Y%m%d_%H%M\") + '.h5'\n",
    "        self.model.save(filename)\n",
    "        \n",
    "    def display_conf_mat(self):\n",
    "        \"\"\"\n",
    "        Displays confusion matrix for the classifier and test set.\n",
    "\n",
    "        \"\"\"\n",
    "\n",
    "        predictions = self.model.predict(self.test_ds)\n",
    "        num_labels = self.model.get_layer(index=-1).output_shape[-1]\n",
    "\n",
    "        cf_matrix = np.zeros((num_labels, num_labels))\n",
    "\n",
    "        for i, prediction in enumerate(predictions):\n",
    "            label_actual_idx = self.test_data['label_encoded'][i]\n",
    "            predict_label_idx = np.argmax(prediction)\n",
    "            cf_matrix[label_actual_idx, predict_label_idx] += 1\n",
    "\n",
    "        cf_matrix_norm = normalize(cf_matrix, axis=1, norm='l1')\n",
    "\n",
    "        sns.heatmap(cf_matrix_norm, xticklabels=self.label_encoder.classes_, yticklabels=self.label_encoder.classes_, cmap=\"YlGnBu\")\n",
    "        plt.ylabel('Actual Label')\n",
    "        plt.xlabel('Predicted Label')\n",
    "        plt.show()\n",
    "        \n",
    "        \n",
    "        "
   ]
  },
  {
   "cell_type": "code",
   "execution_count": 3,
   "metadata": {},
   "outputs": [
    {
     "name": "stdout",
     "output_type": "stream",
     "text": [
      "Epoch 1/10\n",
      "20000/20000 [==============================] - 182s 9ms/step - loss: 0.3693 - sparse_categorical_accuracy: 0.8934 - val_loss: 0.3117 - val_sparse_categorical_accuracy: 0.9080\n",
      "Epoch 2/10\n",
      "20000/20000 [==============================] - 181s 9ms/step - loss: 0.2655 - sparse_categorical_accuracy: 0.9204 - val_loss: 0.3021 - val_sparse_categorical_accuracy: 0.9121\n",
      "Epoch 3/10\n",
      "20000/20000 [==============================] - 188s 9ms/step - loss: 0.2285 - sparse_categorical_accuracy: 0.9314 - val_loss: 0.3064 - val_sparse_categorical_accuracy: 0.9128\n",
      "Epoch 4/10\n",
      "20000/20000 [==============================] - 187s 9ms/step - loss: 0.1965 - sparse_categorical_accuracy: 0.9409 - val_loss: 0.3193 - val_sparse_categorical_accuracy: 0.9118\n",
      "Epoch 5/10\n",
      "20000/20000 [==============================] - 184s 9ms/step - loss: 0.1698 - sparse_categorical_accuracy: 0.9494 - val_loss: 0.3357 - val_sparse_categorical_accuracy: 0.9103\n",
      "Epoch 6/10\n",
      "20000/20000 [==============================] - 192s 10ms/step - loss: 0.1484 - sparse_categorical_accuracy: 0.9563 - val_loss: 0.3529 - val_sparse_categorical_accuracy: 0.9091\n",
      "Epoch 7/10\n",
      "20000/20000 [==============================] - 200s 10ms/step - loss: 0.1310 - sparse_categorical_accuracy: 0.9616 - val_loss: 0.3703 - val_sparse_categorical_accuracy: 0.9081\n",
      "Epoch 8/10\n",
      "20000/20000 [==============================] - 196s 10ms/step - loss: 0.1163 - sparse_categorical_accuracy: 0.9663 - val_loss: 0.3886 - val_sparse_categorical_accuracy: 0.9072\n",
      "Epoch 9/10\n",
      "20000/20000 [==============================] - 193s 10ms/step - loss: 0.1037 - sparse_categorical_accuracy: 0.9702 - val_loss: 0.4075 - val_sparse_categorical_accuracy: 0.9069\n",
      "Epoch 10/10\n",
      "20000/20000 [==============================] - 186s 9ms/step - loss: 0.0928 - sparse_categorical_accuracy: 0.9735 - val_loss: 0.4272 - val_sparse_categorical_accuracy: 0.9063\n"
     ]
    }
   ],
   "source": [
    "clf_level1 = TextClassifierNN()"
   ]
  },
  {
   "cell_type": "code",
   "execution_count": 4,
   "metadata": {},
   "outputs": [
    {
     "name": "stdout",
     "output_type": "stream",
     "text": [
      "6250/6250 [==============================] - 19s 3ms/step - loss: 0.6594 - sparse_categorical_accuracy: 0.8834\n",
      "Accuracy:  0.8834249973297119\n"
     ]
    },
    {
     "data": {
      "text/plain": [
       "0.8834249973297119"
      ]
     },
     "execution_count": 4,
     "metadata": {},
     "output_type": "execute_result"
    }
   ],
   "source": [
    "clf_level1.evaluate_model()\n"
   ]
  },
  {
   "cell_type": "code",
   "execution_count": 5,
   "metadata": {},
   "outputs": [
    {
     "data": {
      "image/png": "[encoded data removed]",
      "text/plain": [
       "<Figure size 432x288 with 2 Axes>"
      ]
     },
     "metadata": {
      "needs_background": "light"
     },
     "output_type": "display_data"
    }
   ],
   "source": [
    "clf_level1.display_conf_mat()"
   ]
  },
  {
   "cell_type": "markdown",
   "metadata": {},
   "source": [
    "#### Tuning\n",
    "\n",
    "Because of the large drop in performance between training accuracy (97.4%) and dev(90.6%)/test(88.4%) set accuracy in the original model, it's clear the model is overfitted. Thus, we experimented here with regularization techniques aimed at addressing that. Dropout regularization was added between the hidden layer and the output layer. The figure below shows the dev/test accuracy for different dropout rates and concludes that the optimal dropout rate is 0.5. For the tuned model, our final performance metrics are as follows:\n",
    "* Training Accuracy: 93.8%\n",
    "* Dev Accuracy: 91.4%\n",
    "* Test Accuracy: 89.4%\n",
    "\n",
    "That's a 1.0% increase in test set accuracy from the original deep learning model and 0.6% improvement over the tuned [Bayes model](./text_classification_bayes.ipynb)!"
   ]
  },
  {
   "cell_type": "code",
   "execution_count": 7,
   "metadata": {},
   "outputs": [
    {
     "name": "stdout",
     "output_type": "stream",
     "text": [
      "--- Starting trial: run-0\n",
      "{'HP_DROPOUT': 0.1}\n",
      "Epoch 1/10\n",
      "20000/20000 [==============================] - 177s 9ms/step - loss: 0.3727 - sparse_categorical_accuracy: 0.8928 - val_loss: 0.3134 - val_sparse_categorical_accuracy: 0.9074\n",
      "Epoch 2/10\n",
      "20000/20000 [==============================] - 171s 9ms/step - loss: 0.2712 - sparse_categorical_accuracy: 0.9192 - val_loss: 0.3049 - val_sparse_categorical_accuracy: 0.9110\n",
      "Epoch 3/10\n",
      "20000/20000 [==============================] - 174s 9ms/step - loss: 0.2388 - sparse_categorical_accuracy: 0.9285 - val_loss: 0.3063 - val_sparse_categorical_accuracy: 0.9125\n",
      "Epoch 4/10\n",
      "20000/20000 [==============================] - 173s 9ms/step - loss: 0.2128 - sparse_categorical_accuracy: 0.9361 - val_loss: 0.3149 - val_sparse_categorical_accuracy: 0.9118\n",
      "Epoch 5/10\n",
      "20000/20000 [==============================] - 173s 9ms/step - loss: 0.1911 - sparse_categorical_accuracy: 0.9427 - val_loss: 0.3250 - val_sparse_categorical_accuracy: 0.9109\n",
      "Epoch 6/10\n",
      "20000/20000 [==============================] - 181s 9ms/step - loss: 0.1733 - sparse_categorical_accuracy: 0.9478 - val_loss: 0.3381 - val_sparse_categorical_accuracy: 0.9100\n",
      "Epoch 7/10\n",
      "20000/20000 [==============================] - 174s 9ms/step - loss: 0.1585 - sparse_categorical_accuracy: 0.9526 - val_loss: 0.3463 - val_sparse_categorical_accuracy: 0.9100\n",
      "Epoch 8/10\n",
      "20000/20000 [==============================] - 174s 9ms/step - loss: 0.1464 - sparse_categorical_accuracy: 0.9562 - val_loss: 0.3572 - val_sparse_categorical_accuracy: 0.9093\n",
      "Epoch 9/10\n",
      "20000/20000 [==============================] - 174s 9ms/step - loss: 0.1356 - sparse_categorical_accuracy: 0.9593 - val_loss: 0.3664 - val_sparse_categorical_accuracy: 0.9090\n",
      "Epoch 10/10\n",
      "20000/20000 [==============================] - 173s 9ms/step - loss: 0.1264 - sparse_categorical_accuracy: 0.9620 - val_loss: 0.3769 - val_sparse_categorical_accuracy: 0.9082\n",
      "5000/5000 [==============================] - 14s 3ms/step - loss: 0.3769 - sparse_categorical_accuracy: 0.9082\n",
      "Accuracy:  0.9082124829292297\n",
      "6250/6250 [==============================] - 18s 3ms/step - loss: 0.5637 - sparse_categorical_accuracy: 0.8872\n",
      "Accuracy:  0.8872299790382385\n",
      "--- Starting trial: run-1\n",
      "{'HP_DROPOUT': 0.3}\n",
      "Epoch 1/10\n",
      "20000/20000 [==============================] - 172s 9ms/step - loss: 0.3822 - sparse_categorical_accuracy: 0.8908 - val_loss: 0.3143 - val_sparse_categorical_accuracy: 0.9077\n",
      "Epoch 2/10\n",
      "20000/20000 [==============================] - 173s 9ms/step - loss: 0.2830 - sparse_categorical_accuracy: 0.9167 - val_loss: 0.3066 - val_sparse_categorical_accuracy: 0.9111\n",
      "Epoch 3/10\n",
      "20000/20000 [==============================] - 173s 9ms/step - loss: 0.2565 - sparse_categorical_accuracy: 0.9237 - val_loss: 0.3053 - val_sparse_categorical_accuracy: 0.9121\n",
      "Epoch 4/10\n",
      "20000/20000 [==============================] - 174s 9ms/step - loss: 0.2389 - sparse_categorical_accuracy: 0.9290 - val_loss: 0.3068 - val_sparse_categorical_accuracy: 0.9122\n",
      "Epoch 5/10\n",
      "20000/20000 [==============================] - 172s 9ms/step - loss: 0.2241 - sparse_categorical_accuracy: 0.9331 - val_loss: 0.3093 - val_sparse_categorical_accuracy: 0.9126\n",
      "Epoch 6/10\n",
      "20000/20000 [==============================] - 172s 9ms/step - loss: 0.2117 - sparse_categorical_accuracy: 0.9366 - val_loss: 0.3135 - val_sparse_categorical_accuracy: 0.9128\n",
      "Epoch 7/10\n",
      "20000/20000 [==============================] - 172s 9ms/step - loss: 0.2008 - sparse_categorical_accuracy: 0.9398 - val_loss: 0.3183 - val_sparse_categorical_accuracy: 0.9126\n",
      "Epoch 8/10\n",
      "20000/20000 [==============================] - 172s 9ms/step - loss: 0.1910 - sparse_categorical_accuracy: 0.9428 - val_loss: 0.3231 - val_sparse_categorical_accuracy: 0.9124\n",
      "Epoch 9/10\n",
      "20000/20000 [==============================] - 172s 9ms/step - loss: 0.1833 - sparse_categorical_accuracy: 0.9451 - val_loss: 0.3269 - val_sparse_categorical_accuracy: 0.9118\n",
      "Epoch 10/10\n",
      "20000/20000 [==============================] - 172s 9ms/step - loss: 0.1755 - sparse_categorical_accuracy: 0.9472 - val_loss: 0.3316 - val_sparse_categorical_accuracy: 0.9122\n",
      "5000/5000 [==============================] - 14s 3ms/step - loss: 0.3316 - sparse_categorical_accuracy: 0.9122\n",
      "Accuracy:  0.9121875166893005\n",
      "6250/6250 [==============================] - 18s 3ms/step - loss: 0.4829 - sparse_categorical_accuracy: 0.8918\n",
      "Accuracy:  0.8918049931526184\n",
      "--- Starting trial: run-2\n",
      "{'HP_DROPOUT': 0.5}\n",
      "Epoch 1/10\n",
      "20000/20000 [==============================] - 171s 9ms/step - loss: 0.4021 - sparse_categorical_accuracy: 0.8864 - val_loss: 0.3178 - val_sparse_categorical_accuracy: 0.9079\n",
      "Epoch 2/10\n",
      "20000/20000 [==============================] - 172s 9ms/step - loss: 0.3022 - sparse_categorical_accuracy: 0.9127 - val_loss: 0.3078 - val_sparse_categorical_accuracy: 0.9108\n",
      "Epoch 3/10\n",
      "20000/20000 [==============================] - 172s 9ms/step - loss: 0.2801 - sparse_categorical_accuracy: 0.9181 - val_loss: 0.3055 - val_sparse_categorical_accuracy: 0.9120\n",
      "Epoch 4/10\n",
      "20000/20000 [==============================] - 172s 9ms/step - loss: 0.2671 - sparse_categorical_accuracy: 0.9220 - val_loss: 0.3041 - val_sparse_categorical_accuracy: 0.9125\n",
      "Epoch 5/10\n",
      "20000/20000 [==============================] - 172s 9ms/step - loss: 0.2576 - sparse_categorical_accuracy: 0.9245 - val_loss: 0.3044 - val_sparse_categorical_accuracy: 0.9129\n",
      "Epoch 6/10\n",
      "20000/20000 [==============================] - 173s 9ms/step - loss: 0.2493 - sparse_categorical_accuracy: 0.9268 - val_loss: 0.3047 - val_sparse_categorical_accuracy: 0.9135\n",
      "Epoch 7/10\n",
      "20000/20000 [==============================] - 181s 9ms/step - loss: 0.2424 - sparse_categorical_accuracy: 0.9289 - val_loss: 0.3059 - val_sparse_categorical_accuracy: 0.9136\n",
      "Epoch 8/10\n",
      "20000/20000 [==============================] - 177s 9ms/step - loss: 0.2361 - sparse_categorical_accuracy: 0.9307 - val_loss: 0.3070 - val_sparse_categorical_accuracy: 0.9138\n",
      "Epoch 9/10\n",
      "20000/20000 [==============================] - 181s 9ms/step - loss: 0.2311 - sparse_categorical_accuracy: 0.9322 - val_loss: 0.3085 - val_sparse_categorical_accuracy: 0.9136\n",
      "Epoch 10/10\n",
      "20000/20000 [==============================] - 175s 9ms/step - loss: 0.2256 - sparse_categorical_accuracy: 0.9336 - val_loss: 0.3082 - val_sparse_categorical_accuracy: 0.9141\n",
      "5000/5000 [==============================] - 14s 3ms/step - loss: 0.3082 - sparse_categorical_accuracy: 0.9141\n",
      "Accuracy:  0.9141437411308289\n",
      "6250/6250 [==============================] - 20s 3ms/step - loss: 0.4436 - sparse_categorical_accuracy: 0.8941\n",
      "Accuracy:  0.8940600156784058\n",
      "--- Starting trial: run-3\n",
      "{'HP_DROPOUT': 0.7}\n",
      "Epoch 1/10\n",
      "20000/20000 [==============================] - 172s 9ms/step - loss: 0.4482 - sparse_categorical_accuracy: 0.8759 - val_loss: 0.3301 - val_sparse_categorical_accuracy: 0.9044\n",
      "Epoch 2/10\n",
      "20000/20000 [==============================] - 175s 9ms/step - loss: 0.3427 - sparse_categorical_accuracy: 0.9036 - val_loss: 0.3183 - val_sparse_categorical_accuracy: 0.9078\n",
      "Epoch 3/10\n",
      "20000/20000 [==============================] - 178s 9ms/step - loss: 0.3213 - sparse_categorical_accuracy: 0.9090 - val_loss: 0.3155 - val_sparse_categorical_accuracy: 0.9092\n",
      "Epoch 4/10\n",
      "20000/20000 [==============================] - 179s 9ms/step - loss: 0.3097 - sparse_categorical_accuracy: 0.9123 - val_loss: 0.3138 - val_sparse_categorical_accuracy: 0.9104\n",
      "Epoch 5/10\n",
      "20000/20000 [==============================] - 179s 9ms/step - loss: 0.3025 - sparse_categorical_accuracy: 0.9145 - val_loss: 0.3121 - val_sparse_categorical_accuracy: 0.9106\n",
      "Epoch 6/10\n",
      "20000/20000 [==============================] - 179s 9ms/step - loss: 0.2978 - sparse_categorical_accuracy: 0.9156 - val_loss: 0.3122 - val_sparse_categorical_accuracy: 0.9113\n",
      "Epoch 7/10\n",
      "20000/20000 [==============================] - 179s 9ms/step - loss: 0.2926 - sparse_categorical_accuracy: 0.9174 - val_loss: 0.3112 - val_sparse_categorical_accuracy: 0.9121\n",
      "Epoch 8/10\n",
      "20000/20000 [==============================] - 179s 9ms/step - loss: 0.2891 - sparse_categorical_accuracy: 0.9184 - val_loss: 0.3132 - val_sparse_categorical_accuracy: 0.9115\n",
      "Epoch 9/10\n"
     ]
    },
    {
     "name": "stdout",
     "output_type": "stream",
     "text": [
      "20000/20000 [==============================] - 175s 9ms/step - loss: 0.2874 - sparse_categorical_accuracy: 0.9190 - val_loss: 0.3125 - val_sparse_categorical_accuracy: 0.9118\n",
      "Epoch 10/10\n",
      "20000/20000 [==============================] - 173s 9ms/step - loss: 0.2842 - sparse_categorical_accuracy: 0.9200 - val_loss: 0.3112 - val_sparse_categorical_accuracy: 0.9128\n",
      "5000/5000 [==============================] - 16s 3ms/step - loss: 0.3112 - sparse_categorical_accuracy: 0.9128\n",
      "Accuracy:  0.9128062725067139\n",
      "6250/6250 [==============================] - 20s 3ms/step - loss: 0.4325 - sparse_categorical_accuracy: 0.8935\n",
      "Accuracy:  0.8935350179672241\n"
     ]
    }
   ],
   "source": [
    "#run all possible params\n",
    "session_num = 0\n",
    "dev_accuracy_all = []\n",
    "test_accuracy_all = []\n",
    "drop_out_rates = [0.1, 0.3, 0.5, 0.7]\n",
    "for dropout_rate in drop_out_rates:\n",
    "    hparams = {\n",
    "        'HP_DROPOUT': dropout_rate\n",
    "    }\n",
    "    run_name = \"run-%d\" % session_num\n",
    "    print('--- Starting trial: %s' % run_name)\n",
    "    print({k: hparams[k] for k in hparams.keys()})\n",
    "    \n",
    "    #train this model\n",
    "    this_model = TextClassifierNN(hparams = hparams)\n",
    "    \n",
    "    #measure dev accuracy\n",
    "    dev_accuracy = this_model.evaluate_model(this_model.dev_ds)\n",
    "    dev_accuracy_all.append(dev_accuracy)\n",
    "    \n",
    "    #measure test accuracy\n",
    "    test_accuracy = this_model.evaluate_model()\n",
    "    test_accuracy_all.append(test_accuracy)\n",
    "    \n",
    "    #save model so we can reload the optimal choice later\n",
    "#     filename = ''\n",
    "#     for k in hparams.keys():\n",
    "#         filename = filename + k+'{:f}'.format(hparams[k])\n",
    "    models_folder = Path(\"./models_folder/\")\n",
    "    filename = 'session_num' + str(session_num) + '.h5'\n",
    "    saved_model_filepath = models_folder / filename\n",
    "    this_model.save_model(saved_model_filepath)\n",
    "    \n",
    "    session_num += 1\n",
    "        \n"
   ]
  },
  {
   "cell_type": "code",
   "execution_count": 8,
   "metadata": {},
   "outputs": [
    {
     "data": {
      "image/png": "[encoded data removed]",
      "text/plain": [
       "<Figure size 432x288 with 1 Axes>"
      ]
     },
     "metadata": {
      "needs_background": "light"
     },
     "output_type": "display_data"
    }
   ],
   "source": [
    "#plot dev and test accuracy for the dropout sweep\n",
    "\n",
    "plt.plot(drop_out_rates, dev_accuracy_all, '-*b')\n",
    "plt.plot(drop_out_rates, test_accuracy_all, '-*r')\n",
    "plt.xlabel('Drop out rate', fontsize='large')\n",
    "plt.ylabel('Accuracy', fontsize='large')\n",
    "plt.legend(['Dev Set', 'Test Set'])\n",
    "plt.show()\n"
   ]
  },
  {
   "cell_type": "code",
   "execution_count": 10,
   "metadata": {},
   "outputs": [
    {
     "name": "stdout",
     "output_type": "stream",
     "text": [
      "Best Performing Model Final Metrics: \n",
      "20000/20000 [==============================] - 62s 3ms/step - loss: 0.2048 - sparse_categorical_accuracy: 0.9379\n",
      "Accuracy:  0.9379233121871948\n",
      "Training Set Accuracy:  0.9379233121871948\n",
      "5000/5000 [==============================] - 15s 3ms/step - loss: 0.3082 - sparse_categorical_accuracy: 0.9141\n",
      "Accuracy:  0.9141437411308289\n",
      "Dev Set Accuracy:  0.9141437411308289\n",
      "6250/6250 [==============================] - 20s 3ms/step - loss: 0.4436 - sparse_categorical_accuracy: 0.8941\n",
      "Accuracy:  0.8940600156784058\n",
      "Test Set Accuracy:  0.8940600156784058\n"
     ]
    }
   ],
   "source": [
    "#find teh best model\n",
    "opt_idx = np.argmax(dev_accuracy_all)\n",
    "#load the model\n",
    "models_folder = Path(\"./models_folder/\")\n",
    "filename = 'session_num' + str(opt_idx) + '.h5'\n",
    "model_filepath = models_folder / filename\n",
    "this_clf = TextClassifierNN(hparams={'HP_DROPOUT': drop_out_rates[opt_idx]}, model_path=model_filepath)\n",
    "\n",
    "print('Best Performing Model Final Metrics: ')\n",
    "print('Training Set Accuracy: ', this_clf.evaluate_model(this_clf.train_ds))\n",
    "print('Dev Set Accuracy: ', this_clf.evaluate_model(this_clf.dev_ds))\n",
    "print('Test Set Accuracy: ', this_clf.evaluate_model(this_clf.test_ds))"
   ]
  },
  {
   "cell_type": "code",
   "execution_count": 11,
   "metadata": {},
   "outputs": [
    {
     "data": {
      "image/png": "[encoded data removed]",
      "text/plain": [
       "<Figure size 432x288 with 2 Axes>"
      ]
     },
     "metadata": {
      "needs_background": "light"
     },
     "output_type": "display_data"
    }
   ],
   "source": [
    "this_clf.display_conf_mat()"
   ]
  },
  {
   "cell_type": "code",
   "execution_count": null,
   "metadata": {},
   "outputs": [],
   "source": []
  }
 ],
 "metadata": {
  "kernelspec": {
   "display_name": "censusbureau",
   "language": "python",
   "name": "censusbureau"
  },
  "language_info": {
   "codemirror_mode": {
    "name": "ipython",
    "version": 3
   },
   "file_extension": ".py",
   "mimetype": "text/x-python",
   "name": "python",
   "nbconvert_exporter": "python",
   "pygments_lexer": "ipython3",
   "version": "3.7.6"
  },
  "toc": {
   "base_numbering": 1,
   "nav_menu": {},
   "number_sections": true,
   "sideBar": true,
   "skip_h1_title": false,
   "title_cell": "Table of Contents",
   "title_sidebar": "Contents",
   "toc_cell": false,
   "toc_position": {
    "height": "calc(100% - 180px)",
    "left": "10px",
    "top": "150px",
    "width": "165px"
   },
   "toc_section_display": true,
   "toc_window_display": true
  },
  "varInspector": {
   "cols": {
    "lenName": 16,
    "lenType": 16,
    "lenVar": 40
   },
   "kernels_config": {
    "python": {
     "delete_cmd_postfix": "",
     "delete_cmd_prefix": "del ",
     "library": "var_list.py",
     "varRefreshCmd": "print(var_dic_list())"
    },
    "r": {
     "delete_cmd_postfix": ") ",
     "delete_cmd_prefix": "rm(",
     "library": "var_list.r",
     "varRefreshCmd": "cat(var_dic_list()) "
    }
   },
   "types_to_exclude": [
    "module",
    "function",
    "builtin_function_or_method",
    "instance",
    "_Feature"
   ],
   "window_display": false
  }
 },
 "nbformat": 4,
 "nbformat_minor": 2
}
