{
 "cells": [
  {
   "cell_type": "markdown",
   "metadata": {},
   "source": [
    "## Introduction\n",
    "\n",
    "This notebook serves to perform deeper error analysis and explore alternative solutions to previous work whereby a Naïve Bayes classifier was used to classify textual product descriptions into product categories."
   ]
  },
  {
   "cell_type": "markdown",
   "metadata": {},
   "source": [
    "## Load Data/Relevant Previous Work"
   ]
  },
  {
   "cell_type": "code",
   "execution_count": 1,
   "metadata": {},
   "outputs": [],
   "source": [
    "import pandas as pd\n",
    "import numpy as np\n",
    "import matplotlib.pyplot as plt\n",
    "from sklearn.feature_extraction.text import CountVectorizer\n",
    "from sklearn.naive_bayes import MultinomialNB\n",
    "import seaborn as sns\n",
    "from sklearn.preprocessing import normalize\n",
    "from sklearn.pipeline import Pipeline\n",
    "from sklearn.model_selection import GridSearchCV\n",
    "from sklearn.model_selection import cross_val_score\n",
    "from sklearn.metrics import log_loss"
   ]
  },
  {
   "cell_type": "code",
   "execution_count": 2,
   "metadata": {},
   "outputs": [
    {
     "name": "stdout",
     "output_type": "stream",
     "text": [
      "Number of rows:  800000\n",
      "Number of columns:  2\n"
     ]
    },
    {
     "data": {
      "text/html": [
       "<div>\n",
       "<style scoped>\n",
       "    .dataframe tbody tr th:only-of-type {\n",
       "        vertical-align: middle;\n",
       "    }\n",
       "\n",
       "    .dataframe tbody tr th {\n",
       "        vertical-align: top;\n",
       "    }\n",
       "\n",
       "    .dataframe thead th {\n",
       "        text-align: right;\n",
       "    }\n",
       "</style>\n",
       "<table border=\"1\" class=\"dataframe\">\n",
       "  <thead>\n",
       "    <tr style=\"text-align: right;\">\n",
       "      <th></th>\n",
       "      <th>description</th>\n",
       "      <th>cat_full</th>\n",
       "    </tr>\n",
       "  </thead>\n",
       "  <tbody>\n",
       "    <tr>\n",
       "      <th>0</th>\n",
       "      <td>Replacement Viewsonic VG710 LCD Monitor 48Watt...</td>\n",
       "      <td>3292&gt;114&gt;1231</td>\n",
       "    </tr>\n",
       "    <tr>\n",
       "      <th>1</th>\n",
       "      <td>HP COMPAQ Pavilion DV6-1410EZ 4400mAh 48Wh 6 C...</td>\n",
       "      <td>3292&gt;1370&gt;4767&gt;3975&gt;1420</td>\n",
       "    </tr>\n",
       "    <tr>\n",
       "      <th>2</th>\n",
       "      <td>Bonjour</td>\n",
       "      <td>2296&gt;3597&gt;2989</td>\n",
       "    </tr>\n",
       "    <tr>\n",
       "      <th>3</th>\n",
       "      <td>Two Pack 6V 12Ah  Eaton POWERRITE PRO II 2400 ...</td>\n",
       "      <td>3292&gt;114&gt;1231</td>\n",
       "    </tr>\n",
       "    <tr>\n",
       "      <th>4</th>\n",
       "      <td>Generations Small Side Table White</td>\n",
       "      <td>4015&gt;3636&gt;1319&gt;1409&gt;3606</td>\n",
       "    </tr>\n",
       "  </tbody>\n",
       "</table>\n",
       "</div>"
      ],
      "text/plain": [
       "                                         description                  cat_full\n",
       "0  Replacement Viewsonic VG710 LCD Monitor 48Watt...             3292>114>1231\n",
       "1  HP COMPAQ Pavilion DV6-1410EZ 4400mAh 48Wh 6 C...  3292>1370>4767>3975>1420\n",
       "2                                            Bonjour            2296>3597>2989\n",
       "3  Two Pack 6V 12Ah  Eaton POWERRITE PRO II 2400 ...             3292>114>1231\n",
       "4                 Generations Small Side Table White  4015>3636>1319>1409>3606"
      ]
     },
     "execution_count": 2,
     "metadata": {},
     "output_type": "execute_result"
    }
   ],
   "source": [
    "#load data\n",
    "train_data = pd.read_csv('https://github.com/up-lab/rakuten-data-challenge/raw/master/rdc-catalog-train.tsv', header=None, names=['description', 'cat_full'], sep='\\t', )\n",
    "\n",
    "#print some basic information about data\n",
    "print('Number of rows: ', train_data.shape[0])\n",
    "print('Number of columns: ', train_data.shape[1])\n",
    "\n",
    "#look at the data\n",
    "train_data.head()"
   ]
  },
  {
   "cell_type": "code",
   "execution_count": 3,
   "metadata": {},
   "outputs": [],
   "source": [
    "train_data['cat_1'] = train_data['cat_full'].apply(lambda x: x.split('>')[0])\n",
    "train_data['cat_2'] = train_data['cat_full'].apply(lambda x: x.split('>')[1] if (len(x.split('>'))>1) else np.nan)"
   ]
  },
  {
   "cell_type": "code",
   "execution_count": 4,
   "metadata": {},
   "outputs": [
    {
     "name": "stdout",
     "output_type": "stream",
     "text": [
      "Number of rows before cleaning:  800000\n",
      "Number of rows after cleaning:  800000\n"
     ]
    }
   ],
   "source": [
    "#basic cleaning, remove any rows that don't have values in the decsription or cat_1 fields (leaving those with\n",
    "#missing cat_2 for now)\n",
    "print('Number of rows before cleaning: ', train_data.shape[0])\n",
    "train_data.dropna(subset=['description','cat_1'], inplace=True)\n",
    "print('Number of rows after cleaning: ', train_data.shape[0])"
   ]
  },
  {
   "cell_type": "code",
   "execution_count": 5,
   "metadata": {},
   "outputs": [
    {
     "name": "stdout",
     "output_type": "stream",
     "text": [
      "Number of features:  427297\n",
      " \n",
      "Highest frequency words: \n",
      "[('for', 165031), ('replacement', 91313), ('pack', 74865), ('black', 64110), ('battery', 55975), ('cover', 55047), ('in', 53520), ('skin', 50501), ('and', 46959), ('decal', 43758)]\n",
      " \n",
      "Lowest frequency words: \n",
      "[('µdimm', 1), ('â³', 1), ('çelebration', 1), ('égales', 1), ('élan', 1), ('épais', 1), ('étagère', 1), ('üsküdar', 1), ('œme', 1), ('ﾠb', 1)]\n",
      " \n",
      "Basic Statistics of Word Frequencies: \n",
      "Mean:  19.861536589304396\n",
      "Standard Deviation:  509.9616573544085\n",
      "Min:  1 , Number of occurences:  290634\n",
      "Max:  165031\n"
     ]
    }
   ],
   "source": [
    "#Broadening analysis to whole training set\n",
    "\n",
    "def quick_feature_analysis(feature=train_data['description'], tok_kwargs={}):\n",
    "    vectorizer = CountVectorizer(**tok_kwargs)\n",
    "    vectorizer.fit(feature)\n",
    "    train_x = vectorizer.transform(feature)\n",
    "    print('Number of features: ', train_x.shape[1])\n",
    "\n",
    "    #What are some high frequency words?\n",
    "    top_i = 10\n",
    "\n",
    "    total_occurences = zip(vectorizer.get_feature_names(), train_x.sum(axis=0).tolist()[0])\n",
    "    total_occurences_sorted = sorted(total_occurences, key=lambda x: -x[1])\n",
    "    print(' ')\n",
    "    print('Highest frequency words: ')\n",
    "    print(total_occurences_sorted[0:top_i])\n",
    "\n",
    "    print(' ')\n",
    "    print('Lowest frequency words: ')\n",
    "    print(total_occurences_sorted[-top_i:])\n",
    "\n",
    "    print(' ')\n",
    "    print('Basic Statistics of Word Frequencies: ')\n",
    "    word_freq = train_x.sum(axis=0).tolist()[0]\n",
    "    print('Mean: ', np.mean(word_freq))\n",
    "    print('Standard Deviation: ', np.std(word_freq))\n",
    "    print('Min: ', np.min(word_freq), ', Number of occurences: ', len(np.argwhere(word_freq==np.min(word_freq))))\n",
    "    print('Max: ', np.max(word_freq))\n",
    "    \n",
    "quick_feature_analysis()\n"
   ]
  },
  {
   "cell_type": "code",
   "execution_count": 6,
   "metadata": {},
   "outputs": [
    {
     "name": "stdout",
     "output_type": "stream",
     "text": [
      "Number of rows:  200000\n"
     ]
    },
    {
     "data": {
      "text/html": [
       "<div>\n",
       "<style scoped>\n",
       "    .dataframe tbody tr th:only-of-type {\n",
       "        vertical-align: middle;\n",
       "    }\n",
       "\n",
       "    .dataframe tbody tr th {\n",
       "        vertical-align: top;\n",
       "    }\n",
       "\n",
       "    .dataframe thead th {\n",
       "        text-align: right;\n",
       "    }\n",
       "</style>\n",
       "<table border=\"1\" class=\"dataframe\">\n",
       "  <thead>\n",
       "    <tr style=\"text-align: right;\">\n",
       "      <th></th>\n",
       "      <th>description</th>\n",
       "      <th>cat_full</th>\n",
       "      <th>cat_1</th>\n",
       "      <th>cat_2</th>\n",
       "    </tr>\n",
       "  </thead>\n",
       "  <tbody>\n",
       "    <tr>\n",
       "      <th>0</th>\n",
       "      <td>Sterling Silver Dangle Ball Earrings w/ Brilli...</td>\n",
       "      <td>1608&gt;2320&gt;2173&gt;3813</td>\n",
       "      <td>1608</td>\n",
       "      <td>2320</td>\n",
       "    </tr>\n",
       "    <tr>\n",
       "      <th>1</th>\n",
       "      <td>ALTERNATOR FREIGHTLINER FL FLC 112 120 FLD 112...</td>\n",
       "      <td>2199&gt;4592&gt;12</td>\n",
       "      <td>2199</td>\n",
       "      <td>4592</td>\n",
       "    </tr>\n",
       "    <tr>\n",
       "      <th>2</th>\n",
       "      <td>Disc Brake Rotor-Advanced Technology Rear Rayb...</td>\n",
       "      <td>2199&gt;4592&gt;12</td>\n",
       "      <td>2199</td>\n",
       "      <td>4592</td>\n",
       "    </tr>\n",
       "    <tr>\n",
       "      <th>3</th>\n",
       "      <td>Coquette Neon Pink Ruffle Babydoll 7035 Neon P...</td>\n",
       "      <td>1608&gt;4269&gt;3031&gt;1221</td>\n",
       "      <td>1608</td>\n",
       "      <td>4269</td>\n",
       "    </tr>\n",
       "    <tr>\n",
       "      <th>4</th>\n",
       "      <td>12V 7Ah (SPS Brand) APC NS3000RMT3U Replacemen...</td>\n",
       "      <td>3292&gt;114&gt;1231</td>\n",
       "      <td>3292</td>\n",
       "      <td>114</td>\n",
       "    </tr>\n",
       "  </tbody>\n",
       "</table>\n",
       "</div>"
      ],
      "text/plain": [
       "                                         description             cat_full  \\\n",
       "0  Sterling Silver Dangle Ball Earrings w/ Brilli...  1608>2320>2173>3813   \n",
       "1  ALTERNATOR FREIGHTLINER FL FLC 112 120 FLD 112...         2199>4592>12   \n",
       "2  Disc Brake Rotor-Advanced Technology Rear Rayb...         2199>4592>12   \n",
       "3  Coquette Neon Pink Ruffle Babydoll 7035 Neon P...  1608>4269>3031>1221   \n",
       "4  12V 7Ah (SPS Brand) APC NS3000RMT3U Replacemen...        3292>114>1231   \n",
       "\n",
       "  cat_1 cat_2  \n",
       "0  1608  2320  \n",
       "1  2199  4592  \n",
       "2  2199  4592  \n",
       "3  1608  4269  \n",
       "4  3292   114  "
      ]
     },
     "execution_count": 6,
     "metadata": {},
     "output_type": "execute_result"
    }
   ],
   "source": [
    "test_data = pd.read_csv('https://github.com/up-lab/rakuten-data-challenge/raw/master/rdc-catalog-test.tsv', header=0, names=['description', 'cat_full'], sep='\\t', )\n",
    "test_data['cat_1'] = test_data['cat_full'].apply(lambda x: x.split('>')[0])\n",
    "test_data['cat_2'] = test_data['cat_full'].apply(lambda x: x.split('>')[1] if (len(x.split('>'))>1) else np.nan)\n",
    "test_data.dropna(subset=['description','cat_1'], inplace=True)\n",
    "print('Number of rows: ', test_data.shape[0])\n",
    "test_data.head()\n"
   ]
  },
  {
   "cell_type": "code",
   "execution_count": 7,
   "metadata": {},
   "outputs": [],
   "source": [
    "#test for accuracy\n",
    "def display_performance(classifier, test_x, test_y, train_x=[], train_y=[]):\n",
    "    \"\"\"\n",
    "    Prints accuracy and confusion matrix for specified classifier and test set.\n",
    "    Displays the confusion matrix. \n",
    "    \n",
    "    \"\"\"\n",
    "\n",
    "    if (train_x.shape[0]>0) & (train_y.shape[0]>0):\n",
    "        train_accuracy = classifier.score(train_x, train_y)\n",
    "        print('Overall Training Set Accuracy: ', train_accuracy)\n",
    "        cv_scores = cross_val_score(classifier, train_x, train_y, cv=5)\n",
    "        print('Cross-validated Training Set Accuracy: {:.2f} +/- {:.2f}'.format(np.mean(cv_scores), np.std(cv_scores)))\n",
    "    \n",
    "    accuracy = classifier.score(test_x, test_y)\n",
    "    \n",
    "    print('Test Set Accuracy: ', accuracy)\n",
    "    \n",
    "    predictions = classifier.predict(test_x)\n",
    "    num_labels = len(classifier.classes_)\n",
    "    cf_matrix = np.zeros((num_labels, num_labels))\n",
    "    labels = np.unique(test_y)\n",
    "    \n",
    "    for i, prediction in enumerate(predictions):\n",
    "        label_actual = test_y[i]\n",
    "        label_actual_idx = np.argwhere(labels==label_actual)[0]\n",
    "        predict_label_idx = np.argwhere(labels==prediction)[0]\n",
    "        cf_matrix[label_actual_idx, predict_label_idx] += 1\n",
    "        cf_matrix_norm = normalize(cf_matrix, axis=1, norm='l1')\n",
    "\n",
    "    sns.heatmap(cf_matrix_norm, xticklabels=labels, yticklabels=labels, cmap=\"YlGnBu\")\n",
    "    plt.ylabel('Actual Label')\n",
    "    plt.xlabel('Predicted Label')\n",
    "    plt.show()\n",
    "    \n",
    "    "
   ]
  },
  {
   "cell_type": "code",
   "execution_count": 8,
   "metadata": {},
   "outputs": [
    {
     "name": "stdout",
     "output_type": "stream",
     "text": [
      "Overall Training Set Accuracy:  0.880355\n",
      "Cross-validated Training Set Accuracy: 0.86 +/- 0.00\n",
      "Test Set Accuracy:  0.85021\n"
     ]
    },
    {
     "data": {
      "image/png": "[encoded data removed]",
      "text/plain": [
       "<Figure size 432x288 with 2 Axes>"
      ]
     },
     "metadata": {
      "needs_background": "light"
     },
     "output_type": "display_data"
    }
   ],
   "source": [
    "#setting up a pipeline to ease parameter tuning later\n",
    "bayes_pipeline = Pipeline([\n",
    "    ('vectorizer', CountVectorizer()),\n",
    "    ('classifier', MultinomialNB(),)])\n",
    "bayes_pipeline.fit(train_data['description'], train_data['cat_1'])\n",
    "display_performance(bayes_pipeline.named_steps['classifier'], \n",
    "                    bayes_pipeline.named_steps['vectorizer'].transform(test_data['description']), test_data['cat_1'], \n",
    "                    bayes_pipeline.named_steps['vectorizer'].transform(train_data['description']), train_data['cat_1']\n",
    "                   )"
   ]
  },
  {
   "cell_type": "code",
   "execution_count": 9,
   "metadata": {},
   "outputs": [
    {
     "name": "stdout",
     "output_type": "stream",
     "text": [
      "Best train score after grid search:  0.8929525\n",
      "\n",
      "classifier__fit_prior: False\n",
      "vectorizer__binary: False\n",
      "vectorizer__ngram_range: (1, 2)\n",
      "vectorizer__stop_words: None\n",
      "\n",
      "Best test score after grid search:  0.8783\n"
     ]
    }
   ],
   "source": [
    "#grid search on a few different parameters we can tune\n",
    "params = {'vectorizer__ngram_range': [(1, 1), (1, 2)],\n",
    "          'vectorizer__stop_words': ('english', None),\n",
    "          'vectorizer__binary': (True, False),\n",
    "          'classifier__fit_prior': (True, False),\n",
    "    }\n",
    "\n",
    "grid_search = GridSearchCV(bayes_pipeline, params, cv=5, n_jobs=-1)\n",
    "grid_search.fit(train_data['description'], train_data['cat_1'])\n",
    "print('Best train score after grid search: ', grid_search.best_score_)\n",
    "print('')\n",
    "for param_name in sorted(params.keys()):\n",
    "    print(\"%s: %r\" % (param_name, grid_search.best_params_[param_name]))\n",
    "\n",
    "print('')\n",
    "print('Best test score after grid search: ', grid_search.score(test_data['description'], test_data['cat_1']))"
   ]
  },
  {
   "cell_type": "markdown",
   "metadata": {},
   "source": [
    "## Error Analysis\n",
    "\n",
    "Here, we are looking at the performance of the first design of the text classifier found [here](/). To recap, that classifier is a multinomial Bayes classifier built on a bag of words feature model trained on 800,000 product descriptions to classify product categories. This section tries to dive deeper into where the model is failing and why.\n",
    "\n",
    "The first thing we started to consider was the bias-variance tradeoff in this model. While it not possible to know if there is unavoidable bias in the system because we don't know the optimal accuracy (e.g. what is the best possible accuracy for human experts to categorize the products based on the provided descriptions), we hypothesized that 89.3% accuracy on the training set might be a little low. Fortunately, the accuracy drop from 89.3% on the cross-validated training set to 87.8% shows there is some variance (overfitting), but it isn't egregious. So, can we find a way to decrease bias without a larger variance bias?\n",
    "\n",
    "During the investigation, we considered a new variable in the multinomial Bayes classifier, alpha. Alpha is the [Laplacian smoothing parameter](https://en.wikipedia.org/wiki/Additive_smoothing), which regularizes the likelihood and ensures that is is never set to zero (even if the feature for that class has never been encountered). By tuning alpha we were able to decrease bias in the system and better fit the training data, with some manageable added cost to increasing variable. Retuning the parameters also shows that decreasing alpha in concert with reintroducing "
   ]
  },
  {
   "cell_type": "code",
   "execution_count": 10,
   "metadata": {},
   "outputs": [],
   "source": [
    "#filter the points the classifier incorrectly labels of teh test set\n",
    "bayes_pipeline = bayes_pipeline.set_params(**grid_search.best_params_)\n",
    "bayes_pipeline.fit(train_data['description'], train_data['cat_1'])\n",
    "train_data['cat_1_predict'] = bayes_pipeline.predict(train_data['description'])\n",
    "\n",
    "bad_train_data = train_data.loc[train_data['cat_1'] != train_data['cat_1_predict']].sample(500, random_state=20)"
   ]
  },
  {
   "cell_type": "code",
   "execution_count": 11,
   "metadata": {},
   "outputs": [
    {
     "name": "stdout",
     "output_type": "stream",
     "text": [
      "Log Loss for correctly classified training data:  0.01652650022116755\n",
      "Log Loss for incorrectly classified training data:  0.20875076384292474\n"
     ]
    }
   ],
   "source": [
    "#how conifdent was the classifier on correct predicitons vs incorrect predictions?\n",
    "def log_loss_pipeline(this_pipeline, x):\n",
    "    clf_classes = bayes_pipeline.named_steps['classifier'].classes_\n",
    "    \n",
    "    predictions = bayes_pipeline.predict(x)\n",
    "    \n",
    "    y_true = [[int(clf_classes[i]==predictions[j]) for i in range(len(clf_classes))]\n",
    "                  for j in range(len(predictions))]\n",
    "    \n",
    "    prob_predict = bayes_pipeline.predict_proba(x)\n",
    "    \n",
    "    this_log_loss = log_loss(y_true, prob_predict)\n",
    "    \n",
    "    return this_log_loss\n",
    "\n",
    "\n",
    "log_loss_correct = log_loss_pipeline(bayes_pipeline,\n",
    "                                     train_data.loc[train_data['cat_1']==train_data['cat_1_predict']]['description'])\n",
    "\n",
    "print('Log Loss for correctly classified training data: ', log_loss_correct)\n",
    "\n",
    "\n",
    "log_loss_incorrect = log_loss_pipeline(bayes_pipeline,\n",
    "                                       train_data.loc[train_data['cat_1']!=train_data['cat_1_predict']]['description'])\n",
    "\n",
    "print('Log Loss for incorrectly classified training data: ', log_loss_incorrect)"
   ]
  },
  {
   "cell_type": "code",
   "execution_count": 12,
   "metadata": {},
   "outputs": [
    {
     "data": {
      "text/html": [
       "<div>\n",
       "<style scoped>\n",
       "    .dataframe tbody tr th:only-of-type {\n",
       "        vertical-align: middle;\n",
       "    }\n",
       "\n",
       "    .dataframe tbody tr th {\n",
       "        vertical-align: top;\n",
       "    }\n",
       "\n",
       "    .dataframe thead th {\n",
       "        text-align: right;\n",
       "    }\n",
       "</style>\n",
       "<table border=\"1\" class=\"dataframe\">\n",
       "  <thead>\n",
       "    <tr style=\"text-align: right;\">\n",
       "      <th></th>\n",
       "      <th>description</th>\n",
       "      <th>cat_full</th>\n",
       "      <th>cat_1</th>\n",
       "      <th>cat_2</th>\n",
       "      <th>cat_1_predict</th>\n",
       "    </tr>\n",
       "  </thead>\n",
       "  <tbody>\n",
       "    <tr>\n",
       "      <th>156902</th>\n",
       "      <td>Captain Layover Medium/Large 10-14 Costume</td>\n",
       "      <td>3292&gt;3581&gt;3145&gt;2201</td>\n",
       "      <td>3292</td>\n",
       "      <td>3581</td>\n",
       "      <td>1608</td>\n",
       "    </tr>\n",
       "    <tr>\n",
       "      <th>259287</th>\n",
       "      <td>Tweeter Audiopipe 250W Super High Frequency Do...</td>\n",
       "      <td>2075&gt;4764&gt;272</td>\n",
       "      <td>2075</td>\n",
       "      <td>4764</td>\n",
       "      <td>3292</td>\n",
       "    </tr>\n",
       "    <tr>\n",
       "      <th>494083</th>\n",
       "      <td>Chip Tortla Jalapeno -Pack of 12</td>\n",
       "      <td>1208&gt;310&gt;397&gt;1635&gt;587</td>\n",
       "      <td>1208</td>\n",
       "      <td>310</td>\n",
       "      <td>4015</td>\n",
       "    </tr>\n",
       "    <tr>\n",
       "      <th>639196</th>\n",
       "      <td>Wiss W10T 10\" Titanium Coated All-Purpose Scis...</td>\n",
       "      <td>92</td>\n",
       "      <td>92</td>\n",
       "      <td>NaN</td>\n",
       "      <td>4015</td>\n",
       "    </tr>\n",
       "    <tr>\n",
       "      <th>581963</th>\n",
       "      <td>NCAA DePaul Blue Demons Apple iPad/iPad Mini S...</td>\n",
       "      <td>3093&gt;4104&gt;2151</td>\n",
       "      <td>3093</td>\n",
       "      <td>4104</td>\n",
       "      <td>3292</td>\n",
       "    </tr>\n",
       "    <tr>\n",
       "      <th>...</th>\n",
       "      <td>...</td>\n",
       "      <td>...</td>\n",
       "      <td>...</td>\n",
       "      <td>...</td>\n",
       "      <td>...</td>\n",
       "    </tr>\n",
       "    <tr>\n",
       "      <th>720897</th>\n",
       "      <td>Pro Rebounder Poolside Basketball</td>\n",
       "      <td>1395&gt;2736&gt;3899&gt;2657&gt;3543</td>\n",
       "      <td>1395</td>\n",
       "      <td>2736</td>\n",
       "      <td>2075</td>\n",
       "    </tr>\n",
       "    <tr>\n",
       "      <th>319012</th>\n",
       "      <td>School Smart Exhibit Paper</td>\n",
       "      <td>4015&gt;2824&gt;2205&gt;108</td>\n",
       "      <td>4015</td>\n",
       "      <td>2824</td>\n",
       "      <td>4238</td>\n",
       "    </tr>\n",
       "    <tr>\n",
       "      <th>597743</th>\n",
       "      <td>Good L Corporation GLSTeal24pk The Standard Ha...</td>\n",
       "      <td>92</td>\n",
       "      <td>92</td>\n",
       "      <td>NaN</td>\n",
       "      <td>4015</td>\n",
       "    </tr>\n",
       "    <tr>\n",
       "      <th>725748</th>\n",
       "      <td>DC 12V 2 Position 5 Way Neutral Electric Solen...</td>\n",
       "      <td>4564&gt;1265&gt;1706&gt;159&gt;4867&gt;606</td>\n",
       "      <td>4564</td>\n",
       "      <td>1265</td>\n",
       "      <td>4015</td>\n",
       "    </tr>\n",
       "    <tr>\n",
       "      <th>7691</th>\n",
       "      <td>Axe Heaven Blonde Electric Guitar Wallet - Han...</td>\n",
       "      <td>4015&gt;2824&gt;2964&gt;2128&gt;1083&gt;69</td>\n",
       "      <td>4015</td>\n",
       "      <td>2824</td>\n",
       "      <td>1608</td>\n",
       "    </tr>\n",
       "  </tbody>\n",
       "</table>\n",
       "<p>500 rows × 5 columns</p>\n",
       "</div>"
      ],
      "text/plain": [
       "                                              description  \\\n",
       "156902         Captain Layover Medium/Large 10-14 Costume   \n",
       "259287  Tweeter Audiopipe 250W Super High Frequency Do...   \n",
       "494083                   Chip Tortla Jalapeno -Pack of 12   \n",
       "639196  Wiss W10T 10\" Titanium Coated All-Purpose Scis...   \n",
       "581963  NCAA DePaul Blue Demons Apple iPad/iPad Mini S...   \n",
       "...                                                   ...   \n",
       "720897                  Pro Rebounder Poolside Basketball   \n",
       "319012                         School Smart Exhibit Paper   \n",
       "597743  Good L Corporation GLSTeal24pk The Standard Ha...   \n",
       "725748  DC 12V 2 Position 5 Way Neutral Electric Solen...   \n",
       "7691    Axe Heaven Blonde Electric Guitar Wallet - Han...   \n",
       "\n",
       "                           cat_full cat_1 cat_2 cat_1_predict  \n",
       "156902          3292>3581>3145>2201  3292  3581          1608  \n",
       "259287                2075>4764>272  2075  4764          3292  \n",
       "494083        1208>310>397>1635>587  1208   310          4015  \n",
       "639196                           92    92   NaN          4015  \n",
       "581963               3093>4104>2151  3093  4104          3292  \n",
       "...                             ...   ...   ...           ...  \n",
       "720897     1395>2736>3899>2657>3543  1395  2736          2075  \n",
       "319012           4015>2824>2205>108  4015  2824          4238  \n",
       "597743                           92    92   NaN          4015  \n",
       "725748  4564>1265>1706>159>4867>606  4564  1265          4015  \n",
       "7691    4015>2824>2964>2128>1083>69  4015  2824          1608  \n",
       "\n",
       "[500 rows x 5 columns]"
      ]
     },
     "execution_count": 12,
     "metadata": {},
     "output_type": "execute_result"
    }
   ],
   "source": [
    "bad_train_data"
   ]
  },
  {
   "cell_type": "code",
   "execution_count": 14,
   "metadata": {},
   "outputs": [
    {
     "name": "stdout",
     "output_type": "stream",
     "text": [
      "NCAA DePaul Blue Demons Apple iPad/iPad Mini Smart Cover Case\n",
      "\n",
      "Token:  apple\n",
      "Log prob for token|actual class:  [-10.20178945]\n",
      "Log prob for token|predicted class:  [-7.07493329]\n",
      "\n",
      "Token:  apple ipad\n",
      "Log prob for token|actual class:  [-10.29916362]\n",
      "Log prob for token|predicted class:  [-8.74024988]\n",
      "\n",
      "Token:  blue\n",
      "Log prob for token|actual class:  [-8.8738671]\n",
      "Log prob for token|predicted class:  [-7.3704168]\n",
      "\n",
      "Token:  blue demons\n",
      "Log prob for token|actual class:  [-14.08335325]\n",
      "Log prob for token|predicted class:  [-15.15779882]\n",
      "\n",
      "Token:  case\n",
      "Log prob for token|actual class:  [-7.66825629]\n",
      "Log prob for token|predicted class:  [-5.95670103]\n",
      "\n",
      "Token:  cover\n",
      "Log prob for token|actual class:  [-8.45393519]\n",
      "Log prob for token|predicted class:  [-5.08332455]\n",
      "\n",
      "Token:  cover case\n",
      "Log prob for token|actual class:  [-10.66562657]\n",
      "Log prob for token|predicted class:  [-9.65450188]\n",
      "\n",
      "Token:  demons\n",
      "Log prob for token|actual class:  [-14.08335325]\n",
      "Log prob for token|predicted class:  [-14.46465164]\n",
      "\n",
      "Token:  demons apple\n",
      "Log prob for token|actual class:  [-14.08335325]\n",
      "Log prob for token|predicted class:  [-15.15779882]\n",
      "\n",
      "Token:  depaul\n",
      "Log prob for token|actual class:  [-14.08335325]\n",
      "Log prob for token|predicted class:  [-15.15779882]\n",
      "\n",
      "Token:  depaul blue\n",
      "Log prob for token|actual class:  [-14.08335325]\n",
      "Log prob for token|predicted class:  [-15.15779882]\n",
      "\n",
      "Token:  ipad\n",
      "Log prob for token|actual class:  [-9.23523689]\n",
      "Log prob for token|predicted class:  [-8.15792026]\n",
      "\n",
      "Token:  ipad ipad\n",
      "Log prob for token|actual class:  [-10.60211316]\n",
      "Log prob for token|predicted class:  [-11.53345789]\n",
      "\n",
      "Token:  ipad mini\n",
      "Log prob for token|actual class:  [-10.25471185]\n",
      "Log prob for token|predicted class:  [-9.72407682]\n",
      "\n",
      "Token:  mini\n",
      "Log prob for token|actual class:  [-9.1967706]\n",
      "Log prob for token|predicted class:  [-7.62892957]\n",
      "\n",
      "Token:  mini smart\n",
      "Log prob for token|actual class:  [-10.76916725]\n",
      "Log prob for token|predicted class:  [-13.1428958]\n",
      "\n",
      "Token:  ncaa\n",
      "Log prob for token|actual class:  [-10.20178945]\n",
      "Log prob for token|predicted class:  [-9.74169842]\n",
      "\n",
      "Token:  ncaa depaul\n",
      "Log prob for token|actual class:  [-14.08335325]\n",
      "Log prob for token|predicted class:  [-15.15779882]\n",
      "\n",
      "Token:  smart\n",
      "Log prob for token|actual class:  [-10.15152762]\n",
      "Log prob for token|predicted class:  [-8.04751095]\n",
      "\n",
      "Token:  smart cover\n",
      "Log prob for token|actual class:  [-10.73344916]\n",
      "Log prob for token|predicted class:  [-10.8469997]\n",
      "\n",
      "Total log prob for all tokens|actual class:  [-221.80752369]\n",
      "Total log prob for all tokens|predicted class:  [-212.95726259]\n"
     ]
    }
   ],
   "source": [
    "def single_sample_eval(this_pipeline, x):\n",
    "    print(x['description'])\n",
    "    #print each token and the p(token|class)\n",
    "    #get tokens\n",
    "    tokens = this_pipeline.named_steps['vectorizer'].transform([x['description']])\n",
    "    \n",
    "    print('')\n",
    "    \n",
    "    log_prob_bad = 0\n",
    "    log_prob_good = 0\n",
    "    \n",
    "    for token_i in tokens[0].indices:\n",
    "        #print the token\n",
    "        print('Token: ', this_pipeline.named_steps['vectorizer'].get_feature_names()[token_i])\n",
    "        actual_label_i = np.argwhere(this_pipeline.named_steps['classifier'].classes_ == x['cat_1'])[0]\n",
    "        predicted_label_i = np.argwhere(this_pipeline.named_steps['classifier'].classes_ == x['cat_1_predict'])[0]\n",
    "        print('Log prob for token|actual class: ', this_pipeline.named_steps['classifier'].feature_log_prob_[actual_label_i, token_i])\n",
    "        print('Log prob for token|predicted class: ', this_pipeline.named_steps['classifier'].feature_log_prob_[predicted_label_i, token_i])\n",
    "        print('')\n",
    "        log_prob_good += this_pipeline.named_steps['classifier'].feature_log_prob_[actual_label_i, token_i]\n",
    "        log_prob_bad += this_pipeline.named_steps['classifier'].feature_log_prob_[predicted_label_i, token_i]\n",
    "    \n",
    "    print('Total log prob for all tokens|actual class: ', log_prob_good)\n",
    "    print('Total log prob for all tokens|predicted class: ', log_prob_bad)\n",
    "\n",
    "        \n",
    "random_bad_sample = bad_train_data.iloc[4]\n",
    "        \n",
    "single_sample_eval(bayes_pipeline, bad_train_data.iloc[4])\n",
    "    "
   ]
  },
  {
   "cell_type": "markdown",
   "metadata": {},
   "source": [
    "### Removing Laplacian Smoothing"
   ]
  },
  {
   "cell_type": "code",
   "execution_count": 15,
   "metadata": {},
   "outputs": [
    {
     "name": "stdout",
     "output_type": "stream",
     "text": [
      "Overall Training Set Accuracy:  0.93362125\n",
      "Cross-validated Training Set Accuracy: 0.85 +/- 0.00\n",
      "Test Set Accuracy:  0.845305\n"
     ]
    },
    {
     "data": {
      "image/png": "[encoded data removed]",
      "text/plain": [
       "<Figure size 432x288 with 2 Axes>"
      ]
     },
     "metadata": {
      "needs_background": "light"
     },
     "output_type": "display_data"
    }
   ],
   "source": [
    "#setting up a pipeline to ease parameter tuning later\n",
    "bayes_pipeline = Pipeline([\n",
    "    ('vectorizer', CountVectorizer()),\n",
    "    ('classifier', MultinomialNB(alpha=1e-10),)])\n",
    "bayes_pipeline.fit(train_data['description'], train_data['cat_1'])\n",
    "display_performance(bayes_pipeline.named_steps['classifier'], \n",
    "                    bayes_pipeline.named_steps['vectorizer'].transform(test_data['description']), test_data['cat_1'], \n",
    "                    bayes_pipeline.named_steps['vectorizer'].transform(train_data['description']), train_data['cat_1']\n",
    "                   )"
   ]
  },
  {
   "cell_type": "code",
   "execution_count": 16,
   "metadata": {},
   "outputs": [
    {
     "name": "stdout",
     "output_type": "stream",
     "text": [
      "Best train score after grid search:  0.9124812499999999\n",
      "\n",
      "classifier__fit_prior: True\n",
      "vectorizer__ngram_range: (1, 2)\n",
      "vectorizer__stop_words: None\n",
      "\n",
      "Best test score after grid search:  0.88779\n",
      "Overall Training Set Accuracy:  0.99584375\n",
      "Cross-validated Training Set Accuracy: 0.91 +/- 0.00\n",
      "Test Set Accuracy:  0.88779\n"
     ]
    },
    {
     "data": {
      "image/png": "[encoded data removed]",
      "text/plain": [
       "<Figure size 432x288 with 2 Axes>"
      ]
     },
     "metadata": {
      "needs_background": "light"
     },
     "output_type": "display_data"
    }
   ],
   "source": [
    "#redo grid search for lower alpha\n",
    "params = {'vectorizer__ngram_range': [(1, 1), (1, 2)],\n",
    "          'vectorizer__stop_words': ('english', None),\n",
    "          'classifier__fit_prior': (True, False),\n",
    "    }\n",
    "\n",
    "grid_search = GridSearchCV(bayes_pipeline, params, cv=5, n_jobs=-1)\n",
    "grid_search.fit(train_data['description'], train_data['cat_1'])\n",
    "print('Best train score after grid search: ', grid_search.best_score_)\n",
    "print('')\n",
    "for param_name in sorted(params.keys()):\n",
    "    print(\"%s: %r\" % (param_name, grid_search.best_params_[param_name]))\n",
    "\n",
    "print('')\n",
    "print('Best test score after grid search: ', grid_search.score(test_data['description'], test_data['cat_1']))\n",
    "print('')\n",
    "\n",
    "\n",
    "bayes_pipeline_low_alpha_optimal = bayes_pipeline.set_params(**grid_search.best_params_)\n",
    "bayes_pipeline_low_alpha_optimal.fit(train_data['description'], train_data['cat_1'])\n",
    "train_data['cat_1_predict'] = bayes_pipeline_low_alpha_optimal.predict(train_data['description'])\n",
    "\n",
    "display_performance(bayes_pipeline_low_alpha_optimal.named_steps['classifier'], \n",
    "                    bayes_pipeline_low_alpha_optimal.named_steps['vectorizer'].transform(test_data['description']), test_data['cat_1'], \n",
    "                    bayes_pipeline_low_alpha_optimal.named_steps['vectorizer'].transform(train_data['description']), train_data['cat_1']\n",
    "                   )"
   ]
  },
  {
   "cell_type": "code",
   "execution_count": 17,
   "metadata": {},
   "outputs": [
    {
     "name": "stdout",
     "output_type": "stream",
     "text": [
      "NCAA DePaul Blue Demons Apple iPad/iPad Mini Smart Cover Case\n",
      "\n",
      "Token:  apple\n",
      "Log prob for token|incorrect class:  [-6.68351554]\n",
      "Log prob for token|correct class:  [-7.23991765]\n",
      "\n",
      "Token:  apple ipad\n",
      "Log prob for token|incorrect class:  [-8.3494944]\n",
      "Log prob for token|correct class:  [-7.33835772]\n",
      "\n",
      "Token:  blue\n",
      "Log prob for token|incorrect class:  [-6.97905214]\n",
      "Log prob for token|correct class:  [-5.90436849]\n",
      "\n",
      "Token:  blue demons\n",
      "Log prob for token|incorrect class:  [-15.45937386]\n",
      "Log prob for token|correct class:  [-11.80426584]\n",
      "\n",
      "Token:  case\n",
      "Log prob for token|incorrect class:  [-5.56517935]\n",
      "Log prob for token|correct class:  [-4.69684037]\n",
      "\n",
      "Token:  cover\n",
      "Log prob for token|incorrect class:  [-4.69177347]\n",
      "Log prob for token|correct class:  [-5.48349755]\n",
      "\n",
      "Token:  cover case\n",
      "Log prob for token|incorrect class:  [-9.26496847]\n",
      "Log prob for token|correct class:  [-7.70992128]\n",
      "\n",
      "Token:  demons\n",
      "Log prob for token|incorrect class:  [-14.36076157]\n",
      "Log prob for token|correct class:  [-11.80426584]\n",
      "\n",
      "Token:  demons apple\n",
      "Log prob for token|incorrect class:  [-15.45937386]\n",
      "Log prob for token|correct class:  [-11.80426584]\n",
      "\n",
      "Token:  depaul\n",
      "Log prob for token|incorrect class:  [-15.45937386]\n",
      "Log prob for token|correct class:  [-11.80426584]\n",
      "\n",
      "Token:  depaul blue\n",
      "Log prob for token|incorrect class:  [-15.45937386]\n",
      "Log prob for token|correct class:  [-11.80426584]\n",
      "\n",
      "Token:  ipad\n",
      "Log prob for token|incorrect class:  [-7.76680421]\n",
      "Log prob for token|correct class:  [-6.26693157]\n",
      "\n",
      "Token:  ipad ipad\n",
      "Log prob for token|incorrect class:  [-11.15530877]\n",
      "Log prob for token|correct class:  [-7.64538276]\n",
      "\n",
      "Token:  ipad mini\n",
      "Log prob for token|incorrect class:  [-9.33469047]\n",
      "Log prob for token|correct class:  [-7.29340633]\n",
      "\n",
      "Token:  mini\n",
      "Log prob for token|incorrect class:  [-7.23762613]\n",
      "Log prob for token|correct class:  [-6.22831674]\n",
      "\n",
      "Token:  mini smart\n",
      "Log prob for token|incorrect class:  [-12.82031653]\n",
      "Log prob for token|correct class:  [-7.81528179]\n",
      "\n",
      "Token:  ncaa\n",
      "Log prob for token|incorrect class:  [-9.35235097]\n",
      "Log prob for token|correct class:  [-7.23991765]\n",
      "\n",
      "Token:  ncaa depaul\n",
      "Log prob for token|incorrect class:  [-15.45937386]\n",
      "Log prob for token|correct class:  [-11.80426584]\n",
      "\n",
      "Token:  smart\n",
      "Log prob for token|incorrect class:  [-7.65634721]\n",
      "Log prob for token|correct class:  [-7.18914532]\n",
      "\n",
      "Token:  smart cover\n",
      "Log prob for token|incorrect class:  [-10.46216158]\n",
      "Log prob for token|correct class:  [-7.77891415]\n",
      "\n",
      "Total log prob for all tokens|correct class:  [-166.65579439]\n",
      "Total log prob for all tokens|incorrect class:  [-208.9772201]\n"
     ]
    }
   ],
   "source": [
    "#redoing the same example from above and showing what changed\n",
    "x = train_data.iloc[random_bad_sample.name]\n",
    "\n",
    "print(x['description'])\n",
    "#print each token and the p(token|class)\n",
    "#get tokens\n",
    "tokens = bayes_pipeline_low_alpha_optimal.named_steps['vectorizer'].transform([x['description']])\n",
    "\n",
    "print('')\n",
    "\n",
    "log_prob_bad = 0\n",
    "log_prob_good = 0\n",
    "\n",
    "for token_i in tokens[0].indices:\n",
    "    #print the token\n",
    "    print('Token: ', bayes_pipeline_low_alpha_optimal.named_steps['vectorizer'].get_feature_names()[token_i])\n",
    "    correct_label_i = np.argwhere(bayes_pipeline_low_alpha_optimal.named_steps['classifier'].classes_ == x['cat_1'])[0]\n",
    "    incorrect_label_i = np.argwhere(bayes_pipeline_low_alpha_optimal.named_steps['classifier'].classes_ == random_bad_sample['cat_1_predict'])[0]\n",
    "    print('Log prob for token|incorrect class: ', bayes_pipeline_low_alpha_optimal.named_steps['classifier'].feature_log_prob_[incorrect_label_i, token_i])\n",
    "    print('Log prob for token|correct class: ', bayes_pipeline_low_alpha_optimal.named_steps['classifier'].feature_log_prob_[correct_label_i, token_i])\n",
    "    print('')\n",
    "    log_prob_good += bayes_pipeline_low_alpha_optimal.named_steps['classifier'].feature_log_prob_[correct_label_i, token_i]\n",
    "    log_prob_bad += bayes_pipeline_low_alpha_optimal.named_steps['classifier'].feature_log_prob_[incorrect_label_i, token_i]\n",
    "    \n",
    "print('Total log prob for all tokens|correct class: ', log_prob_good)\n",
    "print('Total log prob for all tokens|incorrect class: ', log_prob_bad)\n",
    "    \n"
   ]
  },
  {
   "cell_type": "code",
   "execution_count": 41,
   "metadata": {},
   "outputs": [
    {
     "data": {
      "image/png": "[encoded data removed]",
      "text/plain": [
       "<Figure size 432x288 with 1 Axes>"
      ]
     },
     "metadata": {
      "needs_background": "light"
     },
     "output_type": "display_data"
    }
   ],
   "source": [
    "alphas = np.power(10.0, np.arange(-10, 1, 0.5))\n",
    "training_scores = np.zeros(len(alphas))\n",
    "test_scores = np.zeros(len(alphas))\n",
    "\n",
    "for i,alpha in enumerate(alphas):\n",
    "\n",
    "    bayes_pipeline_low_alpha_optimal.set_params(**grid_search.best_params_)\n",
    "    bayes_pipeline_low_alpha_optimal.set_params(**{'classifier__alpha': alpha})\n",
    "    bayes_pipeline_low_alpha_optimal.fit(train_data['description'], train_data['cat_1'])\n",
    "    \n",
    "    training_scores[i] = bayes_pipeline_low_alpha_optimal.score(train_data['description'], train_data['cat_1'])\n",
    "    test_scores[i] = bayes_pipeline_low_alpha_optimal.score(test_data['description'], test_data['cat_1'])\n",
    "    \n",
    "plt.semilogx(alphas, training_scores, 'r*')\n",
    "plt.semilogx(alphas, test_scores, 'bo')\n",
    "plt.show()\n",
    "\n"
   ]
  },
  {
   "cell_type": "code",
   "execution_count": null,
   "metadata": {},
   "outputs": [],
   "source": []
  }
 ],
 "metadata": {
  "kernelspec": {
   "display_name": "censusbureau",
   "language": "python",
   "name": "censusbureau"
  },
  "language_info": {
   "codemirror_mode": {
    "name": "ipython",
    "version": 3
   },
   "file_extension": ".py",
   "mimetype": "text/x-python",
   "name": "python",
   "nbconvert_exporter": "python",
   "pygments_lexer": "ipython3",
   "version": "3.7.6"
  },
  "toc": {
   "base_numbering": 1,
   "nav_menu": {},
   "number_sections": true,
   "sideBar": true,
   "skip_h1_title": false,
   "title_cell": "Table of Contents",
   "title_sidebar": "Contents",
   "toc_cell": false,
   "toc_position": {
    "height": "calc(100% - 180px)",
    "left": "10px",
    "top": "150px",
    "width": "165px"
   },
   "toc_section_display": true,
   "toc_window_display": true
  },
  "varInspector": {
   "cols": {
    "lenName": 16,
    "lenType": 16,
    "lenVar": 40
   },
   "kernels_config": {
    "python": {
     "delete_cmd_postfix": "",
     "delete_cmd_prefix": "del ",
     "library": "var_list.py",
     "varRefreshCmd": "print(var_dic_list())"
    },
    "r": {
     "delete_cmd_postfix": ") ",
     "delete_cmd_prefix": "rm(",
     "library": "var_list.r",
     "varRefreshCmd": "cat(var_dic_list()) "
    }
   },
   "types_to_exclude": [
    "module",
    "function",
    "builtin_function_or_method",
    "instance",
    "_Feature"
   ],
   "window_display": false
  }
 },
 "nbformat": 4,
 "nbformat_minor": 2
}
